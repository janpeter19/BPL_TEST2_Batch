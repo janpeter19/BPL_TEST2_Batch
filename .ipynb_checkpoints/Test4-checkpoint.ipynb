{
 "cells": [
  {
   "cell_type": "code",
   "execution_count": 1,
   "id": "cca5254d-ed72-4695-8e9a-7390eddcdc47",
   "metadata": {},
   "outputs": [],
   "source": [
    "import numpy as np \n",
    "import matplotlib.pyplot as plt \n",
    "from pyfmi import load_fmu\n",
    "from pyfmi.fmi import FMUException"
   ]
  },
  {
   "cell_type": "code",
   "execution_count": 2,
   "id": "524805e8-0896-4e53-9e04-b2dd2ee2686e",
   "metadata": {},
   "outputs": [],
   "source": [
    "fmu_model ='Batch.fmu'        \n",
    "model = load_fmu(fmu_model, log_level=4)  "
   ]
  },
  {
   "cell_type": "code",
   "execution_count": 3,
   "id": "6b7bdb91-a2c5-4fa9-b769-28f5b6dd3677",
   "metadata": {},
   "outputs": [
    {
     "data": {
      "text/plain": [
       "'Dymola Version 2023x, 2022-10-07'"
      ]
     },
     "execution_count": 3,
     "metadata": {},
     "output_type": "execute_result"
    }
   ],
   "source": [
    "model.get_generation_tool()"
   ]
  },
  {
   "cell_type": "code",
   "execution_count": 4,
   "id": "764d8416-6ae7-4ffd-ba2f-408b6b69cb5a",
   "metadata": {},
   "outputs": [
    {
     "name": "stdout",
     "output_type": "stream",
     "text": [
      "FMU tyhpe:  FMUModelME2\n"
     ]
    }
   ],
   "source": [
    "print('FMU tyhpe: ',model.__class__.__name__)"
   ]
  },
  {
   "cell_type": "code",
   "execution_count": 5,
   "id": "961388f3-4ca1-415c-af4b-50e4a0ceea07",
   "metadata": {},
   "outputs": [],
   "source": [
    "opts = model.simulate_options()\n",
    "opts[\"CVode_options\"][\"verbosity\"] = 50"
   ]
  },
  {
   "cell_type": "code",
   "execution_count": 6,
   "id": "5ec5a57a-28d4-4bcb-9cbf-b6da7606cf49",
   "metadata": {},
   "outputs": [],
   "source": [
    "model.set('VX_0', 1.0)\n",
    "model.set('VS_0', 10.0)\n",
    "\n",
    "model.set('Yxs',  0.50)\n",
    "model.set('qSmax', 1.0)\n",
    "model.set('Ks', 0.1)"
   ]
  },
  {
   "cell_type": "code",
   "execution_count": 7,
   "id": "1fc6b237-9785-47f8-b32f-149719b615eb",
   "metadata": {},
   "outputs": [
    {
     "name": "stderr",
     "output_type": "stream",
     "text": [
      "Could not find GLIMDA.\n"
     ]
    }
   ],
   "source": [
    "sim_res1 = model.simulate(final_time=2, options=opts)"
   ]
  },
  {
   "cell_type": "code",
   "execution_count": 8,
   "id": "89509e0f-1d51-4587-a136-d8e0db1fee49",
   "metadata": {},
   "outputs": [],
   "source": [
    "fmu_state_2 = model.get_fmu_state()"
   ]
  },
  {
   "cell_type": "code",
   "execution_count": 9,
   "id": "c6d9a6b6-39e0-4106-a3ce-6d7d104a87c2",
   "metadata": {},
   "outputs": [],
   "source": [
    "#model.reset() \n",
    "model = load_fmu(fmu_model, log_level=4)  \n",
    "#model.set_fmu_state(fmu_state_2)\n",
    "#model.initialize(start_time=2, stop_time=5)"
   ]
  },
  {
   "cell_type": "code",
   "execution_count": 10,
   "id": "a31f0ff1-dc6a-4e25-bda5-c4ac45320c1b",
   "metadata": {},
   "outputs": [],
   "source": [
    "sim_res2 = model.simulate(start_time=0, final_time=5, options=opts)"
   ]
  },
  {
   "cell_type": "code",
   "execution_count": 11,
   "id": "af6bb34b-e0c7-45ee-aaa1-fc22fb48f6de",
   "metadata": {},
   "outputs": [
    {
     "ename": "JIOError",
     "evalue": "The result file has been modified since the result object was created. Please make sure that different filenames are used for different simulations.",
     "output_type": "error",
     "traceback": [
      "\u001b[1;31m---------------------------------------------------------------------------\u001b[0m",
      "\u001b[1;31mJIOError\u001b[0m                                  Traceback (most recent call last)",
      "Cell \u001b[1;32mIn [11], line 2\u001b[0m\n\u001b[0;32m      1\u001b[0m plt\u001b[38;5;241m.\u001b[39mfigure()\n\u001b[1;32m----> 2\u001b[0m plt\u001b[38;5;241m.\u001b[39msubplot(\u001b[38;5;241m2\u001b[39m,\u001b[38;5;241m1\u001b[39m,\u001b[38;5;241m1\u001b[39m); plt\u001b[38;5;241m.\u001b[39mplot(\u001b[43msim_res1\u001b[49m\u001b[43m[\u001b[49m\u001b[38;5;124;43m'\u001b[39;49m\u001b[38;5;124;43mtime\u001b[39;49m\u001b[38;5;124;43m'\u001b[39;49m\u001b[43m]\u001b[49m, sim_res1[\u001b[38;5;124m'\u001b[39m\u001b[38;5;124mX\u001b[39m\u001b[38;5;124m'\u001b[39m],\u001b[38;5;124m'\u001b[39m\u001b[38;5;124m-\u001b[39m\u001b[38;5;124m'\u001b[39m)\n\u001b[0;32m      3\u001b[0m plt\u001b[38;5;241m.\u001b[39msubplot(\u001b[38;5;241m2\u001b[39m,\u001b[38;5;241m1\u001b[39m,\u001b[38;5;241m2\u001b[39m); plt\u001b[38;5;241m.\u001b[39mplot(sim_res1[\u001b[38;5;124m'\u001b[39m\u001b[38;5;124mtime\u001b[39m\u001b[38;5;124m'\u001b[39m], sim_res1[\u001b[38;5;124m'\u001b[39m\u001b[38;5;124mS\u001b[39m\u001b[38;5;124m'\u001b[39m],\u001b[38;5;124m'\u001b[39m\u001b[38;5;124m-\u001b[39m\u001b[38;5;124m'\u001b[39m)\n",
      "File \u001b[1;32m~\\miniconda3\\envs\\pyfmi2100\\lib\\site-packages\\pyfmi\\common\\algorithm_drivers.py:175\u001b[0m, in \u001b[0;36mJMResultBase.__getitem__\u001b[1;34m(self, key)\u001b[0m\n\u001b[0;32m    165\u001b[0m \u001b[38;5;28;01mdef\u001b[39;00m \u001b[38;5;21m__getitem__\u001b[39m(\u001b[38;5;28mself\u001b[39m, key):\n\u001b[0;32m    166\u001b[0m     \u001b[38;5;124;03m\"\"\"\u001b[39;00m\n\u001b[0;32m    167\u001b[0m \u001b[38;5;124;03m    Returns vector with result trajectory for a variable, parameter \u001b[39;00m\n\u001b[0;32m    168\u001b[0m \u001b[38;5;124;03m    or constant that has the same length as the time vector.\u001b[39;00m\n\u001b[1;32m   (...)\u001b[0m\n\u001b[0;32m    173\u001b[0m \u001b[38;5;124;03m            Name of the variable/parameter/constant.\u001b[39;00m\n\u001b[0;32m    174\u001b[0m \u001b[38;5;124;03m    \"\"\"\u001b[39;00m\n\u001b[1;32m--> 175\u001b[0m     val_x \u001b[38;5;241m=\u001b[39m \u001b[38;5;28;43mself\u001b[39;49m\u001b[38;5;241;43m.\u001b[39;49m\u001b[43mresult_data\u001b[49m\u001b[38;5;241;43m.\u001b[39;49m\u001b[43mget_variable_data\u001b[49m\u001b[43m(\u001b[49m\u001b[43mkey\u001b[49m\u001b[43m)\u001b[49m\u001b[38;5;241m.\u001b[39mx\n\u001b[0;32m    177\u001b[0m     \u001b[38;5;28;01mif\u001b[39;00m \u001b[38;5;28mself\u001b[39m\u001b[38;5;241m.\u001b[39mresult_data\u001b[38;5;241m.\u001b[39mis_variable(key):\n\u001b[0;32m    178\u001b[0m         \u001b[38;5;28;01mreturn\u001b[39;00m val_x\n",
      "File \u001b[1;32m~\\miniconda3\\envs\\pyfmi2100\\lib\\site-packages\\pyfmi\\common\\io.py:1506\u001b[0m, in \u001b[0;36mResultDymolaBinary.get_variable_data\u001b[1;34m(self, name)\u001b[0m\n\u001b[0;32m   1504\u001b[0m     \u001b[38;5;28;01mreturn\u001b[39;00m Trajectory(\u001b[38;5;28mself\u001b[39m\u001b[38;5;241m.\u001b[39mdata_1[\u001b[38;5;241m0\u001b[39m,:],factor\u001b[38;5;241m*\u001b[39m\u001b[38;5;28mself\u001b[39m\u001b[38;5;241m.\u001b[39mdata_1[dataInd,:])\n\u001b[0;32m   1505\u001b[0m \u001b[38;5;28;01melif\u001b[39;00m dataMat \u001b[38;5;241m==\u001b[39m \u001b[38;5;241m2\u001b[39m \u001b[38;5;129;01mand\u001b[39;00m \u001b[38;5;129;01mnot\u001b[39;00m \u001b[38;5;28mself\u001b[39m\u001b[38;5;241m.\u001b[39m_contains_diagnostic_data:\n\u001b[1;32m-> 1506\u001b[0m     \u001b[38;5;28;01mreturn\u001b[39;00m Trajectory(\u001b[38;5;28;43mself\u001b[39;49m\u001b[38;5;241;43m.\u001b[39;49m\u001b[43m_get_trajectory\u001b[49m\u001b[43m(\u001b[49m\u001b[38;5;241;43m0\u001b[39;49m\u001b[43m)\u001b[49m,factor\u001b[38;5;241m*\u001b[39m\u001b[38;5;28mself\u001b[39m\u001b[38;5;241m.\u001b[39m_get_trajectory(dataInd))\n\u001b[0;32m   1507\u001b[0m \u001b[38;5;28;01melif\u001b[39;00m dataMat \u001b[38;5;241m==\u001b[39m \u001b[38;5;241m3\u001b[39m:\n\u001b[0;32m   1508\u001b[0m     \u001b[38;5;28;01mreturn\u001b[39;00m Trajectory(\u001b[38;5;28mself\u001b[39m\u001b[38;5;241m.\u001b[39m_get_diagnostics_trajectory(\u001b[38;5;241m0\u001b[39m),\u001b[38;5;28mself\u001b[39m\u001b[38;5;241m.\u001b[39m_get_diagnostics_trajectory(dataInd\u001b[38;5;241m+\u001b[39m\u001b[38;5;241m1\u001b[39m))\n",
      "File \u001b[1;32m~\\miniconda3\\envs\\pyfmi2100\\lib\\site-packages\\pyfmi\\common\\io.py:1374\u001b[0m, in \u001b[0;36mResultDymolaBinary._get_trajectory\u001b[1;34m(self, data_index)\u001b[0m\n\u001b[0;32m   1372\u001b[0m \u001b[38;5;28;01mdef\u001b[39;00m \u001b[38;5;21m_get_trajectory\u001b[39m(\u001b[38;5;28mself\u001b[39m, data_index):\n\u001b[0;32m   1373\u001b[0m     \u001b[38;5;28;01mif\u001b[39;00m \u001b[38;5;28misinstance\u001b[39m(\u001b[38;5;28mself\u001b[39m\u001b[38;5;241m.\u001b[39m_data_2, \u001b[38;5;28mdict\u001b[39m):\n\u001b[1;32m-> 1374\u001b[0m         \u001b[38;5;28;43mself\u001b[39;49m\u001b[38;5;241;43m.\u001b[39;49m\u001b[43m_verify_file_data\u001b[49m\u001b[43m(\u001b[49m\u001b[43m)\u001b[49m\n\u001b[0;32m   1376\u001b[0m         \u001b[38;5;28;01mif\u001b[39;00m data_index \u001b[38;5;129;01min\u001b[39;00m \u001b[38;5;28mself\u001b[39m\u001b[38;5;241m.\u001b[39m_data_2:\n\u001b[0;32m   1377\u001b[0m             \u001b[38;5;28;01mreturn\u001b[39;00m \u001b[38;5;28mself\u001b[39m\u001b[38;5;241m.\u001b[39m_data_2[data_index]\n",
      "File \u001b[1;32m~\\miniconda3\\envs\\pyfmi2100\\lib\\site-packages\\pyfmi\\common\\io.py:1329\u001b[0m, in \u001b[0;36mResultDymolaBinary._verify_file_data\u001b[1;34m(self)\u001b[0m\n\u001b[0;32m   1327\u001b[0m     \u001b[38;5;28mself\u001b[39m\u001b[38;5;241m.\u001b[39m_update_data_info()\n\u001b[0;32m   1328\u001b[0m \u001b[38;5;28;01melse\u001b[39;00m:\n\u001b[1;32m-> 1329\u001b[0m     \u001b[38;5;28;01mraise\u001b[39;00m JIOError(\u001b[38;5;124m\"\u001b[39m\u001b[38;5;124mThe result file has been modified since the result object was created. Please make sure that different filenames are used for different simulations.\u001b[39m\u001b[38;5;124m\"\u001b[39m)\n",
      "\u001b[1;31mJIOError\u001b[0m: The result file has been modified since the result object was created. Please make sure that different filenames are used for different simulations."
     ]
    },
    {
     "data": {
      "image/png": "[encoded data removed]",
      "text/plain": [
       "<Figure size 640x480 with 1 Axes>"
      ]
     },
     "metadata": {},
     "output_type": "display_data"
    }
   ],
   "source": [
    "plt.figure()\n",
    "plt.subplot(2,1,1); plt.plot(sim_res1['time'], sim_res1['X'],'-')\n",
    "plt.subplot(2,1,2); plt.plot(sim_res1['time'], sim_res1['S'],'-')\n",
    "#plt.subplot(2,1,1); plt.plot(sim_res2['time'], sim_res2['X'],'-')\n",
    "#plt.subplot(2,1,2); plt.plot(sim_res2['time'], sim_res2['S'],'-')"
   ]
  },
  {
   "cell_type": "code",
   "execution_count": null,
   "id": "50ecff27-1dc5-4880-acb0-79aa8d4a4036",
   "metadata": {},
   "outputs": [],
   "source": []
  }
 ],
 "metadata": {
  "kernelspec": {
   "display_name": "Python 3 (ipykernel)",
   "language": "python",
   "name": "python3"
  },
  "language_info": {
   "codemirror_mode": {
    "name": "ipython",
    "version": 3
   },
   "file_extension": ".py",
   "mimetype": "text/x-python",
   "name": "python",
   "nbconvert_exporter": "python",
   "pygments_lexer": "ipython3",
   "version": "3.10.6"
  }
 },
 "nbformat": 4,
 "nbformat_minor": 5
}
