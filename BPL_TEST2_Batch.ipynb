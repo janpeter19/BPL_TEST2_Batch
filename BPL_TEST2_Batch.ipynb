{
 "cells": [
  {
   "cell_type": "markdown",
   "metadata": {
    "colab": {
     "base_uri": "https://localhost:8080/"
    },
    "id": "wGEjxWxNWWra",
    "outputId": "073fb96b-b1da-45b7-92e2-ab15c0e346e7"
   },
   "source": [
    "# BPL_TEST2_Batch - demo"
   ]
  },
  {
   "cell_type": "code",
   "execution_count": 1,
   "metadata": {
    "colab": {
     "base_uri": "https://localhost:8080/"
    },
    "id": "YJUeIJIBWZrg",
    "outputId": "28f38530-e8ba-4496-c12d-7273270e581b"
   },
   "outputs": [
    {
     "name": "stdout",
     "output_type": "stream",
     "text": [
      "Linux - run FMU pre-comiled OpenModelica 1.21.0\n"
     ]
    },
    {
     "ename": "InvalidBinaryException",
     "evalue": "The FMU could not be loaded. Error loading the binary. Could not load the FMU binary: libsundials_cvode.so.5: cannot open shared object file: No such file or directory",
     "output_type": "error",
     "traceback": [
      "\u001b[0;31m---------------------------------------------------------------------------\u001b[0m",
      "\u001b[0;31mInvalidBinaryException\u001b[0m                    Traceback (most recent call last)",
      "File \u001b[0;32m/media/sf_Modelica/GitHub/Colab/BPL_TEST2_Batch/BPL_TEST2_Batch_explore.py:109\u001b[0m\n\u001b[1;32m    107\u001b[0m    \u001b[38;5;28;01mif\u001b[39;00m flag_type \u001b[38;5;129;01min\u001b[39;00m [\u001b[38;5;124m'\u001b[39m\u001b[38;5;124mME\u001b[39m\u001b[38;5;124m'\u001b[39m,\u001b[38;5;124m'\u001b[39m\u001b[38;5;124mme\u001b[39m\u001b[38;5;124m'\u001b[39m]:         \n\u001b[1;32m    108\u001b[0m       fmu_model \u001b[38;5;241m=\u001b[39m\u001b[38;5;124m'\u001b[39m\u001b[38;5;124mBPL_TEST2_Batch_linux_om_me.fmu\u001b[39m\u001b[38;5;124m'\u001b[39m    \n\u001b[0;32m--> 109\u001b[0m       model \u001b[38;5;241m=\u001b[39m \u001b[43mload_fmu\u001b[49m\u001b[43m(\u001b[49m\u001b[43mfmu_model\u001b[49m\u001b[43m,\u001b[49m\u001b[43m \u001b[49m\u001b[43mlog_level\u001b[49m\u001b[38;5;241;43m=\u001b[39;49m\u001b[38;5;241;43m4\u001b[39;49m\u001b[43m)\u001b[49m\n\u001b[1;32m    110\u001b[0m \u001b[38;5;28;01melse\u001b[39;00m:    \n\u001b[1;32m    111\u001b[0m    \u001b[38;5;28mprint\u001b[39m(\u001b[38;5;124m'\u001b[39m\u001b[38;5;124mThere is no FMU for this platform\u001b[39m\u001b[38;5;124m'\u001b[39m)\n",
      "File \u001b[0;32msrc/pyfmi/fmi.pyx:8825\u001b[0m, in \u001b[0;36mpyfmi.fmi.load_fmu\u001b[0;34m()\u001b[0m\n",
      "File \u001b[0;32msrc/pyfmi/fmi.pyx:7681\u001b[0m, in \u001b[0;36mpyfmi.fmi.FMUModelME2.__init__\u001b[0;34m()\u001b[0m\n",
      "File \u001b[0;32msrc/pyfmi/fmi.pyx:4169\u001b[0m, in \u001b[0;36mpyfmi.fmi.FMUModelBase2.__init__\u001b[0;34m()\u001b[0m\n",
      "\u001b[0;31mInvalidBinaryException\u001b[0m: The FMU could not be loaded. Error loading the binary. Could not load the FMU binary: libsundials_cvode.so.5: cannot open shared object file: No such file or directory"
     ]
    }
   ],
   "source": [
    "run -i BPL_TEST2_Batch_explore.py"
   ]
  },
  {
   "cell_type": "code",
   "execution_count": 2,
   "metadata": {
    "id": "POScS0zSWc56"
   },
   "outputs": [],
   "source": [
    "%matplotlib inline\n",
    "plt.rcParams['figure.figsize'] = [25/2.54, 20/2.54]"
   ]
  },
  {
   "cell_type": "code",
   "execution_count": 3,
   "metadata": {},
   "outputs": [
    {
     "ename": "NameError",
     "evalue": "name 'process_diagram' is not defined",
     "output_type": "error",
     "traceback": [
      "\u001b[0;31m---------------------------------------------------------------------------\u001b[0m",
      "\u001b[0;31mNameError\u001b[0m                                 Traceback (most recent call last)",
      "Cell \u001b[0;32mIn[3], line 1\u001b[0m\n\u001b[0;32m----> 1\u001b[0m \u001b[43mprocess_diagram\u001b[49m()\n",
      "\u001b[0;31mNameError\u001b[0m: name 'process_diagram' is not defined"
     ]
    }
   ],
   "source": [
    "process_diagram()"
   ]
  },
  {
   "cell_type": "code",
   "execution_count": null,
   "metadata": {},
   "outputs": [],
   "source": [
    "disp('bioreactor', mode='long')"
   ]
  },
  {
   "cell_type": "code",
   "execution_count": null,
   "metadata": {
    "colab": {
     "base_uri": "https://localhost:8080/",
     "height": 506
    },
    "id": "j0TFQRyqWfq3",
    "outputId": "00f43735-b187-4559-86f5-ad5b9cc35bfc"
   },
   "outputs": [],
   "source": [
    "# Simulation with default values of the process\n",
    "newplot(plotType='TimeSeries')\n",
    "simu()"
   ]
  },
  {
   "cell_type": "code",
   "execution_count": null,
   "metadata": {},
   "outputs": [],
   "source": [
    "# Simulation were initial value of biomass VX_0 is varied\n",
    "newplot(plotType='TimeSeries') \n",
    "for value in [1.0, 0.7, 1.3]: init(VX_start=value); simu(5)\n",
    "\n",
    "# Restore default value of VX_0\n",
    "init(VX_start=1.0)"
   ]
  },
  {
   "cell_type": "code",
   "execution_count": null,
   "metadata": {
    "colab": {
     "base_uri": "https://localhost:8080/",
     "height": 506
    },
    "id": "gEpu_TD9WjYD",
    "outputId": "c21d5bd2-b0ac-467b-c457-bdaff7d30203"
   },
   "outputs": [],
   "source": [
    "# Simulation were initial value of substrate VS_start is varied\n",
    "newplot(plotType='TimeSeries') \n",
    "for value in [10, 7, 13]: init(VS_start=value); simu(5)\n",
    "\n",
    "# Restore default value of VS_start\n",
    "init(VS_start=10)"
   ]
  },
  {
   "cell_type": "code",
   "execution_count": null,
   "metadata": {},
   "outputs": [],
   "source": [
    "# Simulation where metabolism is changed after 3 hours\n",
    "newplot(plotType='TimeSeries') \n",
    "simu(5)\n",
    "\n",
    "simu(3)\n",
    "par(Y=0.4, qSmax=1.0/(0.4/0.5)); simu(2, 'cont')\n",
    "\n",
    "# Restore default value of Y and qSmax\n",
    "par(Y=0.5, qSmax=1.0)"
   ]
  },
  {
   "cell_type": "code",
   "execution_count": null,
   "metadata": {},
   "outputs": [],
   "source": [
    "disp('culture')"
   ]
  },
  {
   "cell_type": "code",
   "execution_count": null,
   "metadata": {},
   "outputs": [],
   "source": [
    "describe('mu')"
   ]
  },
  {
   "cell_type": "code",
   "execution_count": null,
   "metadata": {},
   "outputs": [],
   "source": [
    "describe('parts')"
   ]
  },
  {
   "cell_type": "code",
   "execution_count": null,
   "metadata": {},
   "outputs": [],
   "source": [
    "describe('MSL')"
   ]
  },
  {
   "cell_type": "code",
   "execution_count": null,
   "metadata": {
    "colab": {
     "base_uri": "https://localhost:8080/"
    },
    "id": "WgbLQXzGWmUO",
    "outputId": "12f46015-a380-48db-d547-33b879717f0c"
   },
   "outputs": [],
   "source": [
    "system_info()"
   ]
  },
  {
   "cell_type": "code",
   "execution_count": 15,
   "metadata": {},
   "outputs": [],
   "source": [
    "less BPL_TEST2_Batch_explore.py"
   ]
  },
  {
   "cell_type": "code",
   "execution_count": null,
   "metadata": {},
   "outputs": [],
   "source": []
  }
 ],
 "metadata": {
  "colab": {
   "authorship_tag": "ABX9TyOBfrKxjKP/vyAFyiTVJOW3",
   "collapsed_sections": [],
   "include_colab_link": true,
   "provenance": []
  },
  "kernelspec": {
   "display_name": "Python 3 (ipykernel)",
   "language": "python",
   "name": "python3"
  },
  "language_info": {
   "codemirror_mode": {
    "name": "ipython",
    "version": 3
   },
   "file_extension": ".py",
   "mimetype": "text/x-python",
   "name": "python",
   "nbconvert_exporter": "python",
   "pygments_lexer": "ipython3",
   "version": "3.10.9"
  }
 },
 "nbformat": 4,
 "nbformat_minor": 4
}
