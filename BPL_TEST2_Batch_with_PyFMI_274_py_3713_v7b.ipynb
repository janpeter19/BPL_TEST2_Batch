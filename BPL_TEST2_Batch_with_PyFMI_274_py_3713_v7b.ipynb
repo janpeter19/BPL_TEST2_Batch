{
  "nbformat": 4,
  "nbformat_minor": 0,
  "metadata": {
    "colab": {
      "name": "BPL_TEST2_Batch_with_PyFMI_274_py_3713_v7b.ipynb",
      "provenance": [],
      "authorship_tag": "ABX9TyP1sgu3moiKYj8ChKIasBDH",
      "include_colab_link": true
    },
    "kernelspec": {
      "name": "python3",
      "display_name": "Python 3"
    },
    "language_info": {
      "name": "python"
    }
  },
  "cells": [
    {
      "cell_type": "markdown",
      "metadata": {
        "id": "view-in-github",
        "colab_type": "text"
      },
      "source": [
        "<a href=\"https://colab.research.google.com/github/janpeter19/BPL_TEST2_Batch/blob/main/BPL_TEST2_Batch_with_PyFMI_274_py_3713_v7b.ipynb\" target=\"_parent\"><img src=\"https://colab.research.google.com/assets/colab-badge.svg\" alt=\"Open In Colab\"/></a>"
      ]
    },
    {
      "cell_type": "markdown",
      "source": [
        "# PyFMI ver 2.7.4 installation and then BPL_TEST2_Batch script\n",
        "\n",
        "The key library PyFMI v2.7.4 is installed and downgrading is done Numpy v1.19.1. To simplify this we first install conda.\n",
        "\n",
        "After the installation a small application BPL_TEST2_Batch is loaded and run. You can continue with this example if you like.\n",
        "\n",
        "At the end package Bokeh is tested."
      ],
      "metadata": {
        "id": "RhJsGtndz_W0"
      }
    },
    {
      "cell_type": "code",
      "execution_count": 1,
      "metadata": {
        "colab": {
          "base_uri": "https://localhost:8080/"
        },
        "id": "8nKrRANxzwQh",
        "outputId": "e53a0747-38e2-4d61-c943-24f98e50f705"
      },
      "outputs": [
        {
          "output_type": "stream",
          "name": "stdout",
          "text": [
            "No LSB modules are available.\n",
            "Distributor ID:\tUbuntu\n",
            "Description:\tUbuntu 18.04.5 LTS\n",
            "Release:\t18.04\n",
            "Codename:\tbionic\n"
          ]
        }
      ],
      "source": [
        "!lsb_release -a # Actual VM Ubuntu version used by Google"
      ]
    },
    {
      "cell_type": "code",
      "source": [
        "%env PYTHONPATH="
      ],
      "metadata": {
        "colab": {
          "base_uri": "https://localhost:8080/"
        },
        "id": "YDQxa3Ax0K_b",
        "outputId": "284ea376-507d-4fcf-d260-7df9bdea0681"
      },
      "execution_count": 2,
      "outputs": [
        {
          "output_type": "stream",
          "name": "stdout",
          "text": [
            "env: PYTHONPATH=\n"
          ]
        }
      ]
    },
    {
      "cell_type": "code",
      "source": [
        "!wget https://repo.anaconda.com/miniconda/Miniconda3-py37_4.12.0-Linux-x86_64.sh \n",
        "!chmod +x Miniconda3-py37_4.12.0-Linux-x86_64.sh\n",
        "!bash ./Miniconda3-py37_4.12.0-Linux-x86_64.sh -b -f -p /usr/local \n",
        "import sys \n",
        "sys.path.append('/usr/local/lib/python3.7/site-packages/')"
      ],
      "metadata": {
        "colab": {
          "base_uri": "https://localhost:8080/"
        },
        "id": "GjFFAQ-N0MuM",
        "outputId": "2f56029c-d21d-4941-ecd1-ec9fdf0e14b6"
      },
      "execution_count": 3,
      "outputs": [
        {
          "output_type": "stream",
          "name": "stdout",
          "text": [
            "--2022-05-27 09:24:04--  https://repo.anaconda.com/miniconda/Miniconda3-py37_4.12.0-Linux-x86_64.sh\n",
            "Resolving repo.anaconda.com (repo.anaconda.com)... 104.16.131.3, 104.16.130.3, 2606:4700::6810:8203, ...\n",
            "Connecting to repo.anaconda.com (repo.anaconda.com)|104.16.131.3|:443... connected.\n",
            "HTTP request sent, awaiting response... 200 OK\n",
            "Length: 104996770 (100M) [application/x-sh]\n",
            "Saving to: ‘Miniconda3-py37_4.12.0-Linux-x86_64.sh’\n",
            "\n",
            "Miniconda3-py37_4.1 100%[===================>] 100.13M   116MB/s    in 0.9s    \n",
            "\n",
            "2022-05-27 09:24:05 (116 MB/s) - ‘Miniconda3-py37_4.12.0-Linux-x86_64.sh’ saved [104996770/104996770]\n",
            "\n",
            "PREFIX=/usr/local\n",
            "Unpacking payload ...\n",
            "Collecting package metadata (current_repodata.json): - \b\b\\ \b\b| \b\bdone\n",
            "Solving environment: - \b\b\\ \b\b| \b\bdone\n",
            "\n",
            "## Package Plan ##\n",
            "\n",
            "  environment location: /usr/local\n",
            "\n",
            "  added / updated specs:\n",
            "    - _libgcc_mutex==0.1=main\n",
            "    - _openmp_mutex==4.5=1_gnu\n",
            "    - brotlipy==0.7.0=py37h27cfd23_1003\n",
            "    - ca-certificates==2022.3.29=h06a4308_1\n",
            "    - certifi==2021.10.8=py37h06a4308_2\n",
            "    - cffi==1.15.0=py37hd667e15_1\n",
            "    - charset-normalizer==2.0.4=pyhd3eb1b0_0\n",
            "    - colorama==0.4.4=pyhd3eb1b0_0\n",
            "    - conda-content-trust==0.1.1=pyhd3eb1b0_0\n",
            "    - conda-package-handling==1.8.1=py37h7f8727e_0\n",
            "    - conda==4.12.0=py37h06a4308_0\n",
            "    - cryptography==36.0.0=py37h9ce1e76_0\n",
            "    - idna==3.3=pyhd3eb1b0_0\n",
            "    - ld_impl_linux-64==2.35.1=h7274673_9\n",
            "    - libffi==3.3=he6710b0_2\n",
            "    - libgcc-ng==9.3.0=h5101ec6_17\n",
            "    - libgomp==9.3.0=h5101ec6_17\n",
            "    - libstdcxx-ng==9.3.0=hd4cf53a_17\n",
            "    - ncurses==6.3=h7f8727e_2\n",
            "    - openssl==1.1.1n=h7f8727e_0\n",
            "    - pip==21.2.2=py37h06a4308_0\n",
            "    - pycosat==0.6.3=py37h27cfd23_0\n",
            "    - pycparser==2.21=pyhd3eb1b0_0\n",
            "    - pyopenssl==22.0.0=pyhd3eb1b0_0\n",
            "    - pysocks==1.7.1=py37_1\n",
            "    - python==3.7.13=h12debd9_0\n",
            "    - readline==8.1.2=h7f8727e_1\n",
            "    - requests==2.27.1=pyhd3eb1b0_0\n",
            "    - ruamel_yaml==0.15.100=py37h27cfd23_0\n",
            "    - setuptools==61.2.0=py37h06a4308_0\n",
            "    - six==1.16.0=pyhd3eb1b0_1\n",
            "    - sqlite==3.38.2=hc218d9a_0\n",
            "    - tk==8.6.11=h1ccaba5_0\n",
            "    - tqdm==4.63.0=pyhd3eb1b0_0\n",
            "    - urllib3==1.26.8=pyhd3eb1b0_0\n",
            "    - wheel==0.37.1=pyhd3eb1b0_0\n",
            "    - xz==5.2.5=h7b6447c_0\n",
            "    - yaml==0.2.5=h7b6447c_0\n",
            "    - zlib==1.2.12=h7f8727e_1\n",
            "\n",
            "\n",
            "The following NEW packages will be INSTALLED:\n",
            "\n",
            "  _libgcc_mutex      pkgs/main/linux-64::_libgcc_mutex-0.1-main\n",
            "  _openmp_mutex      pkgs/main/linux-64::_openmp_mutex-4.5-1_gnu\n",
            "  brotlipy           pkgs/main/linux-64::brotlipy-0.7.0-py37h27cfd23_1003\n",
            "  ca-certificates    pkgs/main/linux-64::ca-certificates-2022.3.29-h06a4308_1\n",
            "  certifi            pkgs/main/linux-64::certifi-2021.10.8-py37h06a4308_2\n",
            "  cffi               pkgs/main/linux-64::cffi-1.15.0-py37hd667e15_1\n",
            "  charset-normalizer pkgs/main/noarch::charset-normalizer-2.0.4-pyhd3eb1b0_0\n",
            "  colorama           pkgs/main/noarch::colorama-0.4.4-pyhd3eb1b0_0\n",
            "  conda              pkgs/main/linux-64::conda-4.12.0-py37h06a4308_0\n",
            "  conda-content-tru~ pkgs/main/noarch::conda-content-trust-0.1.1-pyhd3eb1b0_0\n",
            "  conda-package-han~ pkgs/main/linux-64::conda-package-handling-1.8.1-py37h7f8727e_0\n",
            "  cryptography       pkgs/main/linux-64::cryptography-36.0.0-py37h9ce1e76_0\n",
            "  idna               pkgs/main/noarch::idna-3.3-pyhd3eb1b0_0\n",
            "  ld_impl_linux-64   pkgs/main/linux-64::ld_impl_linux-64-2.35.1-h7274673_9\n",
            "  libffi             pkgs/main/linux-64::libffi-3.3-he6710b0_2\n",
            "  libgcc-ng          pkgs/main/linux-64::libgcc-ng-9.3.0-h5101ec6_17\n",
            "  libgomp            pkgs/main/linux-64::libgomp-9.3.0-h5101ec6_17\n",
            "  libstdcxx-ng       pkgs/main/linux-64::libstdcxx-ng-9.3.0-hd4cf53a_17\n",
            "  ncurses            pkgs/main/linux-64::ncurses-6.3-h7f8727e_2\n",
            "  openssl            pkgs/main/linux-64::openssl-1.1.1n-h7f8727e_0\n",
            "  pip                pkgs/main/linux-64::pip-21.2.2-py37h06a4308_0\n",
            "  pycosat            pkgs/main/linux-64::pycosat-0.6.3-py37h27cfd23_0\n",
            "  pycparser          pkgs/main/noarch::pycparser-2.21-pyhd3eb1b0_0\n",
            "  pyopenssl          pkgs/main/noarch::pyopenssl-22.0.0-pyhd3eb1b0_0\n",
            "  pysocks            pkgs/main/linux-64::pysocks-1.7.1-py37_1\n",
            "  python             pkgs/main/linux-64::python-3.7.13-h12debd9_0\n",
            "  readline           pkgs/main/linux-64::readline-8.1.2-h7f8727e_1\n",
            "  requests           pkgs/main/noarch::requests-2.27.1-pyhd3eb1b0_0\n",
            "  ruamel_yaml        pkgs/main/linux-64::ruamel_yaml-0.15.100-py37h27cfd23_0\n",
            "  setuptools         pkgs/main/linux-64::setuptools-61.2.0-py37h06a4308_0\n",
            "  six                pkgs/main/noarch::six-1.16.0-pyhd3eb1b0_1\n",
            "  sqlite             pkgs/main/linux-64::sqlite-3.38.2-hc218d9a_0\n",
            "  tk                 pkgs/main/linux-64::tk-8.6.11-h1ccaba5_0\n",
            "  tqdm               pkgs/main/noarch::tqdm-4.63.0-pyhd3eb1b0_0\n",
            "  urllib3            pkgs/main/noarch::urllib3-1.26.8-pyhd3eb1b0_0\n",
            "  wheel              pkgs/main/noarch::wheel-0.37.1-pyhd3eb1b0_0\n",
            "  xz                 pkgs/main/linux-64::xz-5.2.5-h7b6447c_0\n",
            "  yaml               pkgs/main/linux-64::yaml-0.2.5-h7b6447c_0\n",
            "  zlib               pkgs/main/linux-64::zlib-1.2.12-h7f8727e_1\n",
            "\n",
            "\n",
            "Preparing transaction: - \b\b\\ \b\b| \b\bdone\n",
            "Executing transaction: - \b\b\\ \b\b| \b\b/ \b\b- \b\b\\ \b\b| \b\b/ \b\b- \b\b\\ \b\b| \b\b/ \b\b- \b\b\\ \b\b| \b\b/ \b\b- \b\bdone\n",
            "installation finished.\n"
          ]
        }
      ]
    },
    {
      "cell_type": "code",
      "source": [
        "!conda update -n base -c defaults conda --yes"
      ],
      "metadata": {
        "colab": {
          "base_uri": "https://localhost:8080/"
        },
        "id": "NMXzkSoQ0Q6q",
        "outputId": "dcfa057e-edcc-485b-c10d-9e67cd3df86d"
      },
      "execution_count": 4,
      "outputs": [
        {
          "output_type": "stream",
          "name": "stdout",
          "text": [
            "Collecting package metadata (current_repodata.json): - \b\b\\ \b\b| \b\b/ \b\b- \b\b\\ \b\b| \b\b/ \b\b- \b\b\\ \b\b| \b\b/ \b\b- \b\b\\ \b\b| \b\b/ \b\b- \b\b\\ \b\b| \b\b/ \b\b- \b\bdone\n",
            "Solving environment: | \b\b/ \b\b- \b\b\\ \b\b| \b\b/ \b\b- \b\b\\ \b\b| \b\bdone\n",
            "\n",
            "## Package Plan ##\n",
            "\n",
            "  environment location: /usr/local\n",
            "\n",
            "  added / updated specs:\n",
            "    - conda\n",
            "\n",
            "\n",
            "The following packages will be downloaded:\n",
            "\n",
            "    package                    |            build\n",
            "    ---------------------------|-----------------\n",
            "    _openmp_mutex-5.1          |            1_gnu          21 KB\n",
            "    ca-certificates-2022.4.26  |       h06a4308_0         124 KB\n",
            "    certifi-2022.5.18.1        |   py37h06a4308_0         147 KB\n",
            "    conda-4.13.0               |   py37h06a4308_0         890 KB\n",
            "    cryptography-37.0.1        |   py37h9ce1e76_0         1.3 MB\n",
            "    ld_impl_linux-64-2.38      |       h1181459_1         654 KB\n",
            "    libgcc-ng-11.2.0           |       h1234567_0         5.3 MB\n",
            "    libgomp-11.2.0             |       h1234567_0         473 KB\n",
            "    libstdcxx-ng-11.2.0        |       h1234567_0         4.7 MB\n",
            "    openssl-1.1.1o             |       h7f8727e_0         2.5 MB\n",
            "    sqlite-3.38.3              |       hc218d9a_0         1.0 MB\n",
            "    tk-8.6.11                  |       h1ccaba5_1         3.0 MB\n",
            "    tqdm-4.64.0                |   py37h06a4308_0         126 KB\n",
            "    urllib3-1.26.9             |   py37h06a4308_0         180 KB\n",
            "    xz-5.2.5                   |       h7f8727e_1         339 KB\n",
            "    zlib-1.2.12                |       h7f8727e_2         106 KB\n",
            "    ------------------------------------------------------------\n",
            "                                           Total:        20.8 MB\n",
            "\n",
            "The following packages will be REMOVED:\n",
            "\n",
            "  colorama-0.4.4-pyhd3eb1b0_0\n",
            "  conda-content-trust-0.1.1-pyhd3eb1b0_0\n",
            "  six-1.16.0-pyhd3eb1b0_1\n",
            "\n",
            "The following packages will be UPDATED:\n",
            "\n",
            "  _openmp_mutex                                   4.5-1_gnu --> 5.1-1_gnu\n",
            "  ca-certificates                      2022.3.29-h06a4308_1 --> 2022.4.26-h06a4308_0\n",
            "  certifi                          2021.10.8-py37h06a4308_2 --> 2022.5.18.1-py37h06a4308_0\n",
            "  conda                               4.12.0-py37h06a4308_0 --> 4.13.0-py37h06a4308_0\n",
            "  cryptography                        36.0.0-py37h9ce1e76_0 --> 37.0.1-py37h9ce1e76_0\n",
            "  ld_impl_linux-64                        2.35.1-h7274673_9 --> 2.38-h1181459_1\n",
            "  libgcc-ng                               9.3.0-h5101ec6_17 --> 11.2.0-h1234567_0\n",
            "  libgomp                                 9.3.0-h5101ec6_17 --> 11.2.0-h1234567_0\n",
            "  libstdcxx-ng                            9.3.0-hd4cf53a_17 --> 11.2.0-h1234567_0\n",
            "  openssl                                 1.1.1n-h7f8727e_0 --> 1.1.1o-h7f8727e_0\n",
            "  sqlite                                  3.38.2-hc218d9a_0 --> 3.38.3-hc218d9a_0\n",
            "  tk                                      8.6.11-h1ccaba5_0 --> 8.6.11-h1ccaba5_1\n",
            "  tqdm               pkgs/main/noarch::tqdm-4.63.0-pyhd3eb~ --> pkgs/main/linux-64::tqdm-4.64.0-py37h06a4308_0\n",
            "  urllib3            pkgs/main/noarch::urllib3-1.26.8-pyhd~ --> pkgs/main/linux-64::urllib3-1.26.9-py37h06a4308_0\n",
            "  xz                                       5.2.5-h7b6447c_0 --> 5.2.5-h7f8727e_1\n",
            "  zlib                                    1.2.12-h7f8727e_1 --> 1.2.12-h7f8727e_2\n",
            "\n",
            "\n",
            "\n",
            "Downloading and Extracting Packages\n",
            "_openmp_mutex-5.1    | 21 KB     | : 100% 1.0/1 [00:00<00:00,  9.47it/s]\n",
            "tqdm-4.64.0          | 126 KB    | : 100% 1.0/1 [00:00<00:00, 10.94it/s]\n",
            "sqlite-3.38.3        | 1.0 MB    | : 100% 1.0/1 [00:00<00:00,  9.19it/s]\n",
            "conda-4.13.0         | 890 KB    | : 100% 1.0/1 [00:00<00:00,  7.29it/s]\n",
            "openssl-1.1.1o       | 2.5 MB    | : 100% 1.0/1 [00:00<00:00,  5.41it/s]\n",
            "xz-5.2.5             | 339 KB    | : 100% 1.0/1 [00:00<00:00, 12.35it/s]\n",
            "tk-8.6.11            | 3.0 MB    | : 100% 1.0/1 [00:00<00:00,  6.15it/s]\n",
            "libstdcxx-ng-11.2.0  | 4.7 MB    | : 100% 1.0/1 [00:00<00:00,  5.37it/s]\n",
            "zlib-1.2.12          | 106 KB    | : 100% 1.0/1 [00:00<00:00, 18.40it/s]\n",
            "certifi-2022.5.18.1  | 147 KB    | : 100% 1.0/1 [00:00<00:00, 18.81it/s]\n",
            "libgcc-ng-11.2.0     | 5.3 MB    | : 100% 1.0/1 [00:00<00:00,  4.73it/s]\n",
            "ld_impl_linux-64-2.3 | 654 KB    | : 100% 1.0/1 [00:00<00:00, 10.98it/s]\n",
            "cryptography-37.0.1  | 1.3 MB    | : 100% 1.0/1 [00:00<00:00,  6.53it/s]\n",
            "urllib3-1.26.9       | 180 KB    | : 100% 1.0/1 [00:00<00:00, 13.28it/s]\n",
            "ca-certificates-2022 | 124 KB    | : 100% 1.0/1 [00:00<00:00, 16.95it/s]\n",
            "libgomp-11.2.0       | 473 KB    | : 100% 1.0/1 [00:00<00:00, 14.30it/s]\n",
            "Preparing transaction: - \b\bdone\n",
            "Verifying transaction: | \b\b/ \b\b- \b\bdone\n",
            "Executing transaction: | \b\b/ \b\b- \b\b\\ \b\bdone\n"
          ]
        }
      ]
    },
    {
      "cell_type": "code",
      "source": [
        "!conda --version\n",
        "!python --version"
      ],
      "metadata": {
        "colab": {
          "base_uri": "https://localhost:8080/"
        },
        "id": "oYtWsrMh0TKg",
        "outputId": "89f26e42-0fca-42e3-a11c-4c70e1c55b25"
      },
      "execution_count": 5,
      "outputs": [
        {
          "output_type": "stream",
          "name": "stdout",
          "text": [
            "conda 4.13.0\n",
            "Python 3.7.13\n"
          ]
        }
      ]
    },
    {
      "cell_type": "code",
      "source": [
        "!conda install -c conda-forge pyfmi==2.7.4 --yes # Install the key package"
      ],
      "metadata": {
        "colab": {
          "base_uri": "https://localhost:8080/"
        },
        "id": "mWT9nYvG0ZmE",
        "outputId": "f0414c31-db49-4a9e-b277-d1c5265838cc"
      },
      "execution_count": 6,
      "outputs": [
        {
          "output_type": "stream",
          "name": "stdout",
          "text": [
            "Collecting package metadata (current_repodata.json): - \b\b\\ \b\b| \b\b/ \b\b- \b\b\\ \b\b| \b\b/ \b\b- \b\b\\ \b\b| \b\b/ \b\b- \b\b\\ \b\b| \b\b/ \b\b- \b\b\\ \b\b| \b\b/ \b\b- \b\b\\ \b\b| \b\b/ \b\b- \b\b\\ \b\b| \b\b/ \b\b- \b\b\\ \b\b| \b\b/ \b\b- \b\b\\ \b\b| \b\b/ \b\b- \b\b\\ \b\b| \b\b/ \b\b- \b\b\\ \b\b| \b\b/ \b\b- \b\b\\ \b\b| \b\b/ \b\b- \b\b\\ \b\b| \b\b/ \b\b- \b\b\\ \b\b| \b\b/ \b\b- \b\b\\ \b\b| \b\b/ \b\b- \b\b\\ \b\b| \b\b/ \b\b- \b\b\\ \b\b| \b\b/ \b\b- \b\b\\ \b\b| \b\b/ \b\b- \b\b\\ \b\b| \b\b/ \b\b- \b\b\\ \b\b| \b\b/ \b\b- \b\b\\ \b\b| \b\b/ \b\b- \b\b\\ \b\b| \b\b/ \b\b- \b\b\\ \b\b| \b\b/ \b\b- \b\b\\ \b\b| \b\b/ \b\b- \b\b\\ \b\b| \b\b/ \b\b- \b\b\\ \b\b| \b\b/ \b\b- \b\b\\ \b\b| \b\b/ \b\b- \b\b\\ \b\b| \b\b/ \b\b- \b\b\\ \b\b| \b\b/ \b\b- \b\b\\ \b\b| \b\b/ \b\b- \b\b\\ \b\b| \b\b/ \b\b- \b\b\\ \b\b| \b\b/ \b\b- \b\b\\ \b\b| \b\b/ \b\b- \b\b\\ \b\b| \b\b/ \b\b- \b\b\\ \b\b| \b\b/ \b\b- \b\bdone\n",
            "Solving environment: | \b\bfailed with initial frozen solve. Retrying with flexible solve.\n",
            "Collecting package metadata (repodata.json): - \b\b\\ \b\b| \b\b/ \b\b- \b\b\\ \b\b| \b\b/ \b\b- \b\b\\ \b\b| \b\b/ \b\b- \b\b\\ \b\b| \b\b/ \b\b- \b\b\\ \b\b| \b\b/ \b\b- \b\b\\ \b\b| \b\b/ \b\b- \b\b\\ \b\b| \b\b/ \b\b- \b\b\\ \b\b| \b\b/ \b\b- \b\b\\ \b\b| \b\b/ \b\b- \b\b\\ \b\b| \b\b/ \b\b- \b\b\\ \b\b| \b\b/ \b\b- \b\b\\ \b\b| \b\b/ \b\b- \b\b\\ \b\b| \b\b/ \b\b- \b\b\\ \b\b| \b\b/ \b\b- \b\b\\ \b\b| \b\b/ \b\b- \b\b\\ \b\b| \b\b/ \b\b- \b\b\\ \b\b| \b\b/ \b\b- \b\b\\ \b\b| \b\b/ \b\b- \b\b\\ \b\b| \b\b/ \b\b- \b\b\\ \b\b| \b\b/ \b\b- \b\b\\ \b\b| \b\b/ \b\b- \b\b\\ \b\b| \b\b/ \b\b- \b\b\\ \b\b| \b\b/ \b\b- \b\b\\ \b\b| \b\b/ \b\b- \b\b\\ \b\b| \b\b/ \b\b- \b\b\\ \b\b| \b\b/ \b\b- \b\b\\ \b\b| \b\b/ \b\b- \b\b\\ \b\b| \b\b/ \b\b- \b\b\\ \b\b| \b\b/ \b\b- \b\b\\ \b\b| \b\b/ \b\b- \b\b\\ \b\b| \b\b/ \b\b- \b\b\\ \b\b| \b\b/ \b\b- \b\b\\ \b\b| \b\b/ \b\b- \b\b\\ \b\b| \b\b/ \b\b- \b\b\\ \b\b| \b\b/ \b\b- \b\b\\ \b\b| \b\b/ \b\b- \b\b\\ \b\b| \b\b/ \b\b- \b\b\\ \b\b| \b\b/ \b\b- \b\b\\ \b\b| \b\b/ \b\b- \b\b\\ \b\b| \b\b/ \b\b- \b\b\\ \b\b| \b\b/ \b\b- \b\b\\ \b\b| \b\b/ \b\b- \b\b\\ \b\b| \b\b/ \b\b- \b\b\\ \b\b| \b\b/ \b\b- \b\b\\ \b\b| \b\b/ \b\b- \b\b\\ \b\b| \b\b/ \b\b- \b\b\\ \b\b| \b\b/ \b\b- \b\b\\ \b\b| \b\b/ \b\b- \b\b\\ \b\b| \b\b/ \b\b- \b\b\\ \b\b| \b\b/ \b\b- \b\b\\ \b\b| \b\b/ \b\b- \b\b\\ \b\b| \b\b/ \b\b- \b\b\\ \b\b| \b\b/ \b\b- \b\b\\ \b\b| \b\b/ \b\b- \b\b\\ \b\b| \b\b/ \b\b- \b\b\\ \b\b| \b\b/ \b\b- \b\b\\ \b\b| \b\b/ \b\b- \b\b\\ \b\b| \b\b/ \b\b- \b\b\\ \b\b| \b\b/ \b\b- \b\b\\ \b\b| \b\b/ \b\b- \b\b\\ \b\b| \b\b/ \b\b- \b\b\\ \b\b| \b\b/ \b\b- \b\b\\ \b\b| \b\b/ \b\b- \b\b\\ \b\b| \b\b/ \b\b- \b\b\\ \b\b| \b\b/ \b\b- \b\b\\ \b\b| \b\b/ \b\b- \b\b\\ \b\b| \b\b/ \b\b- \b\b\\ \b\b| \b\b/ \b\b- \b\b\\ \b\b| \b\b/ \b\b- \b\b\\ \b\b| \b\b/ \b\b- \b\b\\ \b\b| \b\b/ \b\b- \b\b\\ \b\b| \b\b/ \b\b- \b\b\\ \b\b| \b\b/ \b\b- \b\b\\ \b\b| \b\b/ \b\b- \b\b\\ \b\b| \b\b/ \b\b- \b\b\\ \b\b| \b\b/ \b\b- \b\b\\ \b\b| \b\b/ \b\b- \b\b\\ \b\b| \b\b/ \b\b- \b\b\\ \b\b| \b\b/ \b\b- \b\b\\ \b\b| \b\b/ \b\b- \b\b\\ \b\b| \b\b/ \b\b- \b\b\\ \b\b| \b\b/ \b\b- \b\b\\ \b\b| \b\b/ \b\b- \b\b\\ \b\b| \b\b/ \b\b- \b\b\\ \b\b| \b\b/ \b\b- \b\b\\ \b\b| \b\b/ \b\b- \b\b\\ \b\b| \b\b/ \b\b- \b\b\\ \b\b| \b\b/ \b\b- \b\b\\ \b\b| \b\b/ \b\b- \b\b\\ \b\b| \b\b/ \b\b- \b\b\\ \b\b| \b\b/ \b\b- \b\b\\ \b\b| \b\b/ \b\b- \b\b\\ \b\b| \b\b/ \b\b- \b\b\\ \b\b| \b\b/ \b\b- \b\b\\ \b\b| \b\b/ \b\b- \b\b\\ \b\b| \b\b/ \b\b- \b\b\\ \b\b| \b\b/ \b\b- \b\b\\ \b\b| \b\b/ \b\b- \b\b\\ \b\b| \b\b/ \b\b- \b\b\\ \b\b| \b\b/ \b\b- \b\b\\ \b\b| \b\b/ \b\b- \b\b\\ \b\b| \b\b/ \b\b- \b\b\\ \b\b| \b\b/ \b\b- \b\b\\ \b\b| \b\b/ \b\b- \b\b\\ \b\b| \b\b/ \b\b- \b\b\\ \b\b| \b\b/ \b\b- \b\b\\ \b\b| \b\b/ \b\b- \b\b\\ \b\b| \b\b/ \b\b- \b\b\\ \b\b| \b\b/ \b\b- \b\b\\ \b\b| \b\b/ \b\b- \b\b\\ \b\b| \b\b/ \b\b- \b\b\\ \b\b| \b\b/ \b\b- \b\b\\ \b\b| \b\b/ \b\b- \b\b\\ \b\b| \b\b/ \b\b- \b\b\\ \b\b| \b\b/ \b\b- \b\b\\ \b\b| \b\b/ \b\b- \b\b\\ \b\b| \b\b/ \b\b- \b\b\\ \b\b| \b\b/ \b\b- \b\b\\ \b\b| \b\b/ \b\b- \b\b\\ \b\b| \b\b/ \b\b- \b\b\\ \b\b| \b\b/ \b\b- \b\b\\ \b\b| \b\b/ \b\b- \b\b\\ \b\b| \b\b/ \b\b- \b\b\\ \b\b| \b\b/ \b\b- \b\b\\ \b\b| \b\b/ \b\b- \b\b\\ \b\b| \b\b/ \b\b- \b\b\\ \b\b| \b\b/ \b\b- \b\b\\ \b\b| \b\b/ \b\b- \b\b\\ \b\b| \b\b/ \b\b- \b\b\\ \b\b| \b\b/ \b\b- \b\b\\ \b\b| \b\b/ \b\b- \b\b\\ \b\b| \b\b/ \b\b- \b\b\\ \b\b| \b\b/ \b\b- \b\b\\ \b\b| \b\b/ \b\b- \b\b\\ \b\b| \b\b/ \b\b- \b\b\\ \b\b| \b\b/ \b\b- \b\b\\ \b\b| \b\b/ \b\b- \b\b\\ \b\b| \b\b/ \b\b- \b\b\\ \b\b| \b\b/ \b\b- \b\b\\ \b\b| \b\b/ \b\b- \b\b\\ \b\b| \b\b/ \b\b- \b\b\\ \b\b| \b\b/ \b\b- \b\b\\ \b\b| \b\b/ \b\b- \b\b\\ \b\b| \b\b/ \b\b- \b\b\\ \b\b| \b\b/ \b\b- \b\b\\ \b\b| \b\b/ \b\b- \b\b\\ \b\b| \b\b/ \b\b- \b\b\\ \b\b| \b\b/ \b\b- \b\b\\ \b\b| \b\b/ \b\b- \b\b\\ \b\b| \b\b/ \b\b- \b\b\\ \b\b| \b\b/ \b\b- \b\b\\ \b\b| \b\b/ \b\b- \b\b\\ \b\b| \b\b/ \b\b- \b\b\\ \b\b| \b\b/ \b\b- \b\b\\ \b\b| \b\b/ \b\b- \b\b\\ \b\b| \b\bdone\n",
            "Solving environment: - \b\b\\ \b\b| \b\b/ \b\b- \b\b\\ \b\b| \b\b/ \b\b- \b\b\\ \b\b| \b\b/ \b\b- \b\b\\ \b\b| \b\b/ \b\b- \b\b\\ \b\b| \b\b/ \b\b- \b\b\\ \b\b| \b\b/ \b\b- \b\b\\ \b\b| \b\b/ \b\b- \b\b\\ \b\b| \b\b/ \b\b- \b\b\\ \b\b| \b\b/ \b\b- \b\b\\ \b\b| \b\b/ \b\b- \b\b\\ \b\b| \b\b/ \b\b- \b\b\\ \b\b| \b\b/ \b\b- \b\b\\ \b\b| \b\b/ \b\b- \b\b\\ \b\b| \b\b/ \b\b- \b\b\\ \b\b| \b\b/ \b\b- \b\b\\ \b\b| \b\b/ \b\b- \b\b\\ \b\b| \b\b/ \b\b- \b\b\\ \b\b| \b\b/ \b\b- \b\b\\ \b\b| \b\b/ \b\b- \b\b\\ \b\b| \b\b/ \b\b- \b\b\\ \b\b| \b\b/ \b\b- \b\b\\ \b\b| \b\b/ \b\b- \b\b\\ \b\b| \b\b/ \b\b- \b\b\\ \b\b| \b\b/ \b\b- \b\b\\ \b\b| \b\b/ \b\b- \b\b\\ \b\b| \b\b/ \b\b- \b\b\\ \b\b| \b\b/ \b\b- \b\b\\ \b\b| \b\b/ \b\b- \b\b\\ \b\b| \b\b/ \b\b- \b\b\\ \b\b| \b\b/ \b\b- \b\b\\ \b\b| \b\b/ \b\b- \b\b\\ \b\b| \b\b/ \b\b- \b\b\\ \b\b| \b\b/ \b\b- \b\b\\ \b\b| \b\b/ \b\b- \b\b\\ \b\b| \b\b/ \b\b- \b\b\\ \b\b| \b\b/ \b\b- \b\b\\ \b\b| \b\b/ \b\b- \b\b\\ \b\b| \b\b/ \b\b- \b\b\\ \b\b| \b\b/ \b\b- \b\b\\ \b\b| \b\b/ \b\b- \b\b\\ \b\b| \b\b/ \b\b- \b\b\\ \b\b| \b\b/ \b\b- \b\b\\ \b\b| \b\b/ \b\b- \b\b\\ \b\b| \b\b/ \b\b- \b\b\\ \b\b| \b\b/ \b\b- \b\b\\ \b\b| \b\b/ \b\b- \b\b\\ \b\b| \b\b/ \b\b- \b\b\\ \b\b| \b\b/ \b\b- \b\b\\ \b\b| \b\b/ \b\b- \b\b\\ \b\b| \b\b/ \b\b- \b\b\\ \b\b| \b\b/ \b\b- \b\b\\ \b\b| \b\b/ \b\b- \b\b\\ \b\b| \b\b/ \b\b- \b\b\\ \b\b| \b\b/ \b\b- \b\b\\ \b\b| \b\b/ \b\b- \b\b\\ \b\b| \b\b/ \b\b- \b\b\\ \b\b| \b\b/ \b\b- \b\b\\ \b\b| \b\b/ \b\b- \b\b\\ \b\b| \b\b/ \b\b- \b\b\\ \b\b| \b\b/ \b\b- \b\b\\ \b\b| \b\b/ \b\b- \b\b\\ \b\b| \b\b/ \b\b- \b\b\\ \b\b| \b\b/ \b\b- \b\b\\ \b\b| \b\b/ \b\b- \b\b\\ \b\b| \b\b/ \b\b- \b\b\\ \b\b| \b\b/ \b\b- \b\b\\ \b\b| \b\b/ \b\b- \b\b\\ \b\b| \b\b/ \b\b- \b\b\\ \b\b| \b\b/ \b\b- \b\b\\ \b\b| \b\b/ \b\b- \b\b\\ \b\b| \b\b/ \b\b- \b\b\\ \b\b| \b\b/ \b\b- \b\b\\ \b\b| \b\b/ \b\b- \b\b\\ \b\b| \b\b/ \b\b- \b\b\\ \b\b| \b\b/ \b\b- \b\b\\ \b\b| \b\b/ \b\b- \b\b\\ \b\b| \b\b/ \b\b- \b\b\\ \b\b| \b\b/ \b\b- \b\b\\ \b\b| \b\b/ \b\b- \b\b\\ \b\b| \b\b/ \b\b- \b\b\\ \b\b| \b\b/ \b\b- \b\b\\ \b\b| \b\b/ \b\b- \b\b\\ \b\bdone\n",
            "\n",
            "## Package Plan ##\n",
            "\n",
            "  environment location: /usr/local\n",
            "\n",
            "  added / updated specs:\n",
            "    - pyfmi==2.7.4\n",
            "\n",
            "\n",
            "The following packages will be downloaded:\n",
            "\n",
            "    package                    |            build\n",
            "    ---------------------------|-----------------\n",
            "    assimulo-3.2.9             |   py37h7fe24a9_0         2.6 MB  conda-forge\n",
            "    ca-certificates-2022.5.18.1|       ha878542_0         144 KB  conda-forge\n",
            "    certifi-2022.5.18.1        |   py37h89c1867_0         150 KB  conda-forge\n",
            "    fmilib-2.2.3               |       he1b5a44_0         532 KB  conda-forge\n",
            "    gmp-6.2.1                  |       h58526e2_0         806 KB  conda-forge\n",
            "    icu-68.2                   |       h9c3ff4c_0        13.1 MB  conda-forge\n",
            "    libblas-3.9.0              |14_linux64_openblas          12 KB  conda-forge\n",
            "    libcblas-3.9.0             |14_linux64_openblas          12 KB  conda-forge\n",
            "    libgfortran-ng-12.1.0      |      h69a702a_16          23 KB  conda-forge\n",
            "    libgfortran5-12.1.0        |      hdcd56e2_16         1.8 MB  conda-forge\n",
            "    libiconv-1.16              |       h516909a_0         1.4 MB  conda-forge\n",
            "    liblapack-3.9.0            |14_linux64_openblas          12 KB  conda-forge\n",
            "    libopenblas-0.3.20         |pthreads_h78a6416_0        10.1 MB  conda-forge\n",
            "    libxml2-2.9.12             |       h72842e0_0         772 KB  conda-forge\n",
            "    libxslt-1.1.33             |       h15afd5d_2         522 KB  conda-forge\n",
            "    lxml-4.8.0                 |   py37h540881e_2         1.4 MB  conda-forge\n",
            "    metis-5.1.0                |    h58526e2_1006         4.1 MB  conda-forge\n",
            "    mpfr-4.1.0                 |       h9202a9a_1         2.6 MB  conda-forge\n",
            "    numpy-1.21.6               |   py37h976b520_0         6.1 MB  conda-forge\n",
            "    openssl-1.1.1o             |       h166bdaf_0         2.1 MB  conda-forge\n",
            "    pyfmi-2.7.4                |   py37h161383b_0        12.4 MB  conda-forge\n",
            "    python_abi-3.7             |          2_cp37m           4 KB  conda-forge\n",
            "    scipy-1.7.3                |   py37hf2a6cf1_0        21.8 MB  conda-forge\n",
            "    suitesparse-5.10.1         |       h9e50725_1         2.4 MB  conda-forge\n",
            "    sundials-5.8.0             |       h558c624_0         1.0 MB  conda-forge\n",
            "    tbb-2021.5.0               |       h924138e_1         1.9 MB  conda-forge\n",
            "    ------------------------------------------------------------\n",
            "                                           Total:        87.5 MB\n",
            "\n",
            "The following NEW packages will be INSTALLED:\n",
            "\n",
            "  assimulo           conda-forge/linux-64::assimulo-3.2.9-py37h7fe24a9_0\n",
            "  fmilib             conda-forge/linux-64::fmilib-2.2.3-he1b5a44_0\n",
            "  gmp                conda-forge/linux-64::gmp-6.2.1-h58526e2_0\n",
            "  icu                conda-forge/linux-64::icu-68.2-h9c3ff4c_0\n",
            "  libblas            conda-forge/linux-64::libblas-3.9.0-14_linux64_openblas\n",
            "  libcblas           conda-forge/linux-64::libcblas-3.9.0-14_linux64_openblas\n",
            "  libgfortran-ng     conda-forge/linux-64::libgfortran-ng-12.1.0-h69a702a_16\n",
            "  libgfortran5       conda-forge/linux-64::libgfortran5-12.1.0-hdcd56e2_16\n",
            "  libiconv           conda-forge/linux-64::libiconv-1.16-h516909a_0\n",
            "  liblapack          conda-forge/linux-64::liblapack-3.9.0-14_linux64_openblas\n",
            "  libopenblas        conda-forge/linux-64::libopenblas-0.3.20-pthreads_h78a6416_0\n",
            "  libxml2            conda-forge/linux-64::libxml2-2.9.12-h72842e0_0\n",
            "  libxslt            conda-forge/linux-64::libxslt-1.1.33-h15afd5d_2\n",
            "  lxml               conda-forge/linux-64::lxml-4.8.0-py37h540881e_2\n",
            "  metis              conda-forge/linux-64::metis-5.1.0-h58526e2_1006\n",
            "  mpfr               conda-forge/linux-64::mpfr-4.1.0-h9202a9a_1\n",
            "  numpy              conda-forge/linux-64::numpy-1.21.6-py37h976b520_0\n",
            "  pyfmi              conda-forge/linux-64::pyfmi-2.7.4-py37h161383b_0\n",
            "  python_abi         conda-forge/linux-64::python_abi-3.7-2_cp37m\n",
            "  scipy              conda-forge/linux-64::scipy-1.7.3-py37hf2a6cf1_0\n",
            "  suitesparse        conda-forge/linux-64::suitesparse-5.10.1-h9e50725_1\n",
            "  sundials           conda-forge/linux-64::sundials-5.8.0-h558c624_0\n",
            "  tbb                conda-forge/linux-64::tbb-2021.5.0-h924138e_1\n",
            "\n",
            "The following packages will be UPDATED:\n",
            "\n",
            "  ca-certificates    pkgs/main::ca-certificates-2022.4.26-~ --> conda-forge::ca-certificates-2022.5.18.1-ha878542_0\n",
            "\n",
            "The following packages will be SUPERSEDED by a higher-priority channel:\n",
            "\n",
            "  certifi            pkgs/main::certifi-2022.5.18.1-py37h0~ --> conda-forge::certifi-2022.5.18.1-py37h89c1867_0\n",
            "  openssl              pkgs/main::openssl-1.1.1o-h7f8727e_0 --> conda-forge::openssl-1.1.1o-h166bdaf_0\n",
            "\n",
            "\n",
            "\n",
            "Downloading and Extracting Packages\n",
            "libiconv-1.16        | 1.4 MB    | : 100% 1.0/1 [00:00<00:00,  2.98it/s]\n",
            "libgfortran5-12.1.0  | 1.8 MB    | : 100% 1.0/1 [00:00<00:00,  2.70it/s]\n",
            "ca-certificates-2022 | 144 KB    | : 100% 1.0/1 [00:00<00:00, 18.65it/s]\n",
            "libxml2-2.9.12       | 772 KB    | : 100% 1.0/1 [00:00<00:00,  5.75it/s]\n",
            "icu-68.2             | 13.1 MB   | : 100% 1.0/1 [00:02<00:00,  2.23s/it]               \n",
            "lxml-4.8.0           | 1.4 MB    | : 100% 1.0/1 [00:00<00:00,  3.27it/s]\n",
            "certifi-2022.5.18.1  | 150 KB    | : 100% 1.0/1 [00:00<00:00, 18.43it/s]\n",
            "libblas-3.9.0        | 12 KB     | : 100% 1.0/1 [00:00<00:00, 25.91it/s]\n",
            "gmp-6.2.1            | 806 KB    | : 100% 1.0/1 [00:00<00:00,  5.15it/s]\n",
            "mpfr-4.1.0           | 2.6 MB    | : 100% 1.0/1 [00:00<00:00,  2.10it/s]\n",
            "sundials-5.8.0       | 1.0 MB    | : 100% 1.0/1 [00:00<00:00,  3.36it/s]\n",
            "scipy-1.7.3          | 21.8 MB   | : 100% 1.0/1 [00:05<00:00,  5.25s/it]               \n",
            "python_abi-3.7       | 4 KB      | : 100% 1.0/1 [00:00<00:00, 27.99it/s]\n",
            "libcblas-3.9.0       | 12 KB     | : 100% 1.0/1 [00:00<00:00, 25.48it/s]\n",
            "suitesparse-5.10.1   | 2.4 MB    | : 100% 1.0/1 [00:00<00:00,  1.26it/s]\n",
            "numpy-1.21.6         | 6.1 MB    | : 100% 1.0/1 [00:01<00:00,  1.99s/it]\n",
            "pyfmi-2.7.4          | 12.4 MB   | : 100% 1.0/1 [00:02<00:00,  2.03s/it]\n",
            "metis-5.1.0          | 4.1 MB    | : 100% 1.0/1 [00:00<00:00,  1.19it/s]\n",
            "fmilib-2.2.3         | 532 KB    | : 100% 1.0/1 [00:00<00:00,  5.03it/s]\n",
            "libopenblas-0.3.20   | 10.1 MB   | : 100% 1.0/1 [00:02<00:00,  2.20s/it]               \n",
            "tbb-2021.5.0         | 1.9 MB    | : 100% 1.0/1 [00:00<00:00,  2.66it/s]\n",
            "openssl-1.1.1o       | 2.1 MB    | : 100% 1.0/1 [00:00<00:00,  2.35it/s]\n",
            "liblapack-3.9.0      | 12 KB     | : 100% 1.0/1 [00:00<00:00, 26.73it/s]\n",
            "libxslt-1.1.33       | 522 KB    | : 100% 1.0/1 [00:00<00:00,  3.05it/s]\n",
            "libgfortran-ng-12.1. | 23 KB     | : 100% 1.0/1 [00:00<00:00, 14.29it/s]\n",
            "assimulo-3.2.9       | 2.6 MB    | : 100% 1.0/1 [00:00<00:00,  1.26it/s]               \n",
            "Preparing transaction: / \b\b- \b\b\\ \b\b| \b\bdone\n",
            "Verifying transaction: - \b\b\\ \b\b| \b\b/ \b\b- \b\b\\ \b\b| \b\b/ \b\b- \b\bdone\n",
            "Executing transaction: | \b\b/ \b\b- \b\b\\ \b\b| \b\b/ \b\b- \b\b\\ \b\b| \b\bdone\n"
          ]
        }
      ]
    },
    {
      "cell_type": "code",
      "source": [
        "!conda install numpy=1.19.1 --yes # Need to downgrade numpy"
      ],
      "metadata": {
        "colab": {
          "base_uri": "https://localhost:8080/"
        },
        "id": "_kaB3EPc0d0m",
        "outputId": "c76bd9d4-d0de-4880-fee1-c571d7fb4c1a"
      },
      "execution_count": 7,
      "outputs": [
        {
          "output_type": "stream",
          "name": "stdout",
          "text": [
            "Collecting package metadata (current_repodata.json): - \b\b\\ \b\b| \b\b/ \b\b- \b\b\\ \b\b| \b\bdone\n",
            "Solving environment: - \b\bfailed with initial frozen solve. Retrying with flexible solve.\n",
            "Collecting package metadata (repodata.json): | \b\b/ \b\b- \b\b\\ \b\b| \b\b/ \b\b- \b\b\\ \b\b| \b\b/ \b\b- \b\b\\ \b\b| \b\b/ \b\b- \b\b\\ \b\b| \b\bdone\n",
            "Solving environment: - \b\b\\ \b\b| \b\b/ \b\b- \b\b\\ \b\b| \b\b/ \b\b- \b\b\\ \b\b| \b\b/ \b\b- \b\b\\ \b\b| \b\b/ \b\b- \b\b\\ \b\b| \b\b/ \b\b- \b\b\\ \b\b| \b\b/ \b\b- \b\b\\ \b\b| \b\b/ \b\b- \b\b\\ \b\b| \b\b/ \b\b- \b\b\\ \b\b| \b\b/ \b\b- \b\b\\ \b\b| \b\b/ \b\b- \b\b\\ \b\b| \b\b/ \b\b- \b\b\\ \b\b| \b\b/ \b\b- \b\b\\ \b\b| \b\b/ \b\b- \b\b\\ \b\b| \b\b/ \b\b- \b\b\\ \b\b| \b\b/ \b\b- \b\b\\ \b\b| \b\b/ \b\b- \b\b\\ \b\b| \b\b/ \b\b- \b\b\\ \b\b| \b\b/ \b\b- \b\b\\ \b\b| \b\b/ \b\b- \b\b\\ \b\b| \b\b/ \b\b- \b\b\\ \b\b| \b\bdone\n",
            "\n",
            "## Package Plan ##\n",
            "\n",
            "  environment location: /usr/local\n",
            "\n",
            "  added / updated specs:\n",
            "    - numpy=1.19.1\n",
            "\n",
            "\n",
            "The following packages will be downloaded:\n",
            "\n",
            "    package                    |            build\n",
            "    ---------------------------|-----------------\n",
            "    blas-1.0                   |         openblas          46 KB\n",
            "    numpy-1.19.1               |   py37h30dfecb_0          21 KB\n",
            "    numpy-base-1.19.1          |   py37h75fe3a5_0         4.1 MB\n",
            "    ------------------------------------------------------------\n",
            "                                           Total:         4.2 MB\n",
            "\n",
            "The following NEW packages will be INSTALLED:\n",
            "\n",
            "  blas               pkgs/main/linux-64::blas-1.0-openblas\n",
            "  numpy-base         pkgs/main/linux-64::numpy-base-1.19.1-py37h75fe3a5_0\n",
            "\n",
            "The following packages will be SUPERSEDED by a higher-priority channel:\n",
            "\n",
            "  ca-certificates    conda-forge::ca-certificates-2022.5.1~ --> pkgs/main::ca-certificates-2022.4.26-h06a4308_0\n",
            "  certifi            conda-forge::certifi-2022.5.18.1-py37~ --> pkgs/main::certifi-2022.5.18.1-py37h06a4308_0\n",
            "  numpy              conda-forge::numpy-1.21.6-py37h976b52~ --> pkgs/main::numpy-1.19.1-py37h30dfecb_0\n",
            "  openssl            conda-forge::openssl-1.1.1o-h166bdaf_0 --> pkgs/main::openssl-1.1.1o-h7f8727e_0\n",
            "\n",
            "\n",
            "\n",
            "Downloading and Extracting Packages\n",
            "numpy-base-1.19.1    | 4.1 MB    | : 100% 1.0/1 [00:00<00:00,  1.51it/s]               \n",
            "blas-1.0             | 46 KB     | : 100% 1.0/1 [00:00<00:00, 16.23it/s]\n",
            "numpy-1.19.1         | 21 KB     | : 100% 1.0/1 [00:00<00:00, 12.44it/s]\n",
            "Preparing transaction: - \b\bdone\n",
            "Verifying transaction: | \b\b/ \b\bdone\n",
            "Executing transaction: \\ \b\b| \b\bdone\n"
          ]
        }
      ]
    },
    {
      "cell_type": "markdown",
      "source": [
        "## Now specific installation run a simulation and notebook for that\n",
        "\n",
        "Start with connecting to Github. Then upload the two files:\n",
        "\n",
        "* FMU - BPL_TEST2_Batch_linux_jm_cs.fmu\n",
        "* Setup-file - BPL_TEST2_Batch_explore.py"
      ],
      "metadata": {
        "id": "vSOFez8M0gcL"
      }
    },
    {
      "cell_type": "code",
      "source": [
        "# Filter out DepracationWarnings for 'np.float as alias' is needed - wish I could make filter more narrow \n",
        "import warnings\n",
        "warnings.filterwarnings(\"ignore\")"
      ],
      "metadata": {
        "id": "7VZ5ljgf0jmX"
      },
      "execution_count": 8,
      "outputs": []
    },
    {
      "cell_type": "code",
      "source": [
        "%%bash \n",
        "git clone https://github.com/janpeter19/BPL_TEST2_Batch"
      ],
      "metadata": {
        "colab": {
          "base_uri": "https://localhost:8080/"
        },
        "id": "717IvRIE0nHF",
        "outputId": "5164a1c3-914e-40d0-a20a-c785e9fd7990"
      },
      "execution_count": 9,
      "outputs": [
        {
          "output_type": "stream",
          "name": "stderr",
          "text": [
            "Cloning into 'BPL_TEST2_Batch'...\n"
          ]
        }
      ]
    },
    {
      "cell_type": "code",
      "source": [
        "%cd BPL_TEST2_Batch"
      ],
      "metadata": {
        "colab": {
          "base_uri": "https://localhost:8080/"
        },
        "id": "OEONcvwD0rtW",
        "outputId": "0e27e381-abec-41ea-894e-1219a7c59fe9"
      },
      "execution_count": 10,
      "outputs": [
        {
          "output_type": "stream",
          "name": "stdout",
          "text": [
            "/content/BPL_TEST2_Batch\n"
          ]
        }
      ]
    },
    {
      "cell_type": "code",
      "source": [
        "run -i BPL_TEST2_Batch_explore.py"
      ],
      "metadata": {
        "colab": {
          "base_uri": "https://localhost:8080/"
        },
        "id": "UOZB59ry0tNh",
        "outputId": "9d9c2245-ad5f-4596-eae8-a9eb51e2f511"
      },
      "execution_count": 11,
      "outputs": [
        {
          "output_type": "stream",
          "name": "stdout",
          "text": [
            "Linux - run FMU pre-comiled JModelica 2.4\n",
            "\n",
            "Model for bioreactor has been setup. Key commands:\n",
            " - par()       - change of parameters and initial values\n",
            " - init()      - change initial values only\n",
            " - simu()      - simulate and plot\n",
            " - newplot()   - make a new plot\n",
            " - show()      - show plot from previous simulation\n",
            " - disp()      - display parameters and initial values from the last simulation\n",
            " - describe()  - describe culture, broth, parameters, variables with values / units\n",
            "\n",
            "Note that both disp() and describe() takes values from the last simulation\n",
            "\n",
            "Brief information about a command by help(), eg help(simu)\n",
            "Key system information is listed with the command system_info()\n"
          ]
        }
      ]
    },
    {
      "cell_type": "code",
      "source": [
        "%matplotlib inline\n",
        "plt.rcParams['figure.figsize'] = [25/2.54, 20/2.54]"
      ],
      "metadata": {
        "id": "w5NFWle10wzI"
      },
      "execution_count": 12,
      "outputs": []
    },
    {
      "cell_type": "code",
      "source": [
        "# Simulation with default values of the process\n",
        "newplot(plotType='TimeSeries')\n",
        "simu()"
      ],
      "metadata": {
        "colab": {
          "base_uri": "https://localhost:8080/",
          "height": 506
        },
        "id": "K4suclt00zWT",
        "outputId": "48a542a9-fa92-42fd-fa7f-233057befdfd"
      },
      "execution_count": 13,
      "outputs": [
        {
          "output_type": "display_data",
          "data": {
            "text/plain": [
              "<Figure size 708.661x566.929 with 2 Axes>"
            ],
            "image/png": "[encoded data removed]"
          },
          "metadata": {
            "needs_background": "light"
          }
        }
      ]
    },
    {
      "cell_type": "code",
      "source": [
        "# Simulation were initial value of substrate VS_0 is varied\n",
        "newplot(plotType='TimeSeries') \n",
        "for value in [10, 7, 13]: init(VS_0=value); simu(5)\n",
        "\n",
        "# Restore default value of VS_0\n",
        "init(VS_0=10)"
      ],
      "metadata": {
        "colab": {
          "base_uri": "https://localhost:8080/",
          "height": 506
        },
        "id": "BSFY4x8E02pK",
        "outputId": "0c314ac3-7ff6-479e-fb17-9ca7de7e3584"
      },
      "execution_count": 14,
      "outputs": [
        {
          "output_type": "display_data",
          "data": {
            "text/plain": [
              "<Figure size 708.661x566.929 with 2 Axes>"
            ],
            "image/png": "[encoded data removed]"
          },
          "metadata": {
            "needs_background": "light"
          }
        }
      ]
    },
    {
      "cell_type": "code",
      "source": [
        "system_info()"
      ],
      "metadata": {
        "colab": {
          "base_uri": "https://localhost:8080/"
        },
        "id": "HC9uhjdu05ce",
        "outputId": "3bff1c8f-d653-4902-d0e3-0e023ef63d39"
      },
      "execution_count": 15,
      "outputs": [
        {
          "output_type": "stream",
          "name": "stdout",
          "text": [
            "\n",
            "System information\n",
            " -OS: Linux\n",
            " -Python: 3.7.13\n",
            " -PyFMI: 2.7.4\n",
            " -FMU by: JModelica.org\n",
            " -FMI: 2.0\n",
            " -Type: FMUModelCS2\n",
            " -Name: BPL_TEST2.Batch\n",
            " -Generated: 2021-05-17T11:20:16\n",
            " -Description: Bioprocess Library version 2.0.5\n",
            " -Interaction: FMU-explore ver 0.9.1\n"
          ]
        }
      ]
    },
    {
      "cell_type": "markdown",
      "source": [
        "## Test package Bokeh"
      ],
      "metadata": {
        "id": "BUnW4zez08Dx"
      }
    },
    {
      "cell_type": "code",
      "source": [
        "# Install Bokeh\n",
        "import bokeh\n",
        "import bokeh.io\n",
        "from bokeh.layouts import column\n",
        "from bokeh.plotting import figure, show\n",
        "bokeh.io.output_notebook()"
      ],
      "metadata": {
        "id": "_EQJqtpN06bR"
      },
      "execution_count": 16,
      "outputs": []
    },
    {
      "cell_type": "code",
      "source": [
        "# Plot similar plot as above from last siumulation using Bokeh instead of Matplotlib\n",
        "p1=figure(title=\"Batch cultivation\", y_axis_label='X and S [g/L]', x_axis_label='Time h', width=600, height=250)\n",
        "p2=figure(title=\"\", y_axis_label='mu [1/h]', x_axis_label='Time [h]', width=600, height=250)\n",
        "p1.line(sim_res['time'], sim_res['bioreactor.c[1]'], legend_label='X', line_width=2, line_color='red')\n",
        "p1.line(sim_res['time'], sim_res['bioreactor.c[2]'], legend_label='S', line_width=2, line_color='blue')\n",
        "p2.line(sim_res['time'], sim_res['bioreactor.culture.q[1]'], legend_label='mu', line_width=2, line_color='red')\n",
        "show(column(p1,p2))"
      ],
      "metadata": {
        "colab": {
          "base_uri": "https://localhost:8080/",
          "height": 517
        },
        "id": "SaoXmkSD1DEE",
        "outputId": "187b0e0a-2e43-4564-ff0e-88c0d7af280e"
      },
      "execution_count": 17,
      "outputs": [
        {
          "output_type": "display_data",
          "data": {
            "application/javascript": [
              "\n",
              "(function(root) {\n",
              "  function now() {\n",
              "    return new Date();\n",
              "  }\n",
              "\n",
              "  var force = true;\n",
              "\n",
              "  if (typeof root._bokeh_onload_callbacks === \"undefined\" || force === true) {\n",
              "    root._bokeh_onload_callbacks = [];\n",
              "    root._bokeh_is_loading = undefined;\n",
              "  }\n",
              "\n",
              "  var JS_MIME_TYPE = 'application/javascript';\n",
              "  var HTML_MIME_TYPE = 'text/html';\n",
              "  var EXEC_MIME_TYPE = 'application/vnd.bokehjs_exec.v0+json';\n",
              "  var CLASS_NAME = 'output_bokeh rendered_html';\n",
              "\n",
              "  /**\n",
              "   * Render data to the DOM node\n",
              "   */\n",
              "  function render(props, node) {\n",
              "    var script = document.createElement(\"script\");\n",
              "    node.appendChild(script);\n",
              "  }\n",
              "\n",
              "  /**\n",
              "   * Handle when an output is cleared or removed\n",
              "   */\n",
              "  function handleClearOutput(event, handle) {\n",
              "    var cell = handle.cell;\n",
              "\n",
              "    var id = cell.output_area._bokeh_element_id;\n",
              "    var server_id = cell.output_area._bokeh_server_id;\n",
              "    // Clean up Bokeh references\n",
              "    if (id != null && id in Bokeh.index) {\n",
              "      Bokeh.index[id].model.document.clear();\n",
              "      delete Bokeh.index[id];\n",
              "    }\n",
              "\n",
              "    if (server_id !== undefined) {\n",
              "      // Clean up Bokeh references\n",
              "      var cmd = \"from bokeh.io.state import curstate; print(curstate().uuid_to_server['\" + server_id + \"'].get_sessions()[0].document.roots[0]._id)\";\n",
              "      cell.notebook.kernel.execute(cmd, {\n",
              "        iopub: {\n",
              "          output: function(msg) {\n",
              "            var id = msg.content.text.trim();\n",
              "            if (id in Bokeh.index) {\n",
              "              Bokeh.index[id].model.document.clear();\n",
              "              delete Bokeh.index[id];\n",
              "            }\n",
              "          }\n",
              "        }\n",
              "      });\n",
              "      // Destroy server and session\n",
              "      var cmd = \"import bokeh.io.notebook as ion; ion.destroy_server('\" + server_id + \"')\";\n",
              "      cell.notebook.kernel.execute(cmd);\n",
              "    }\n",
              "  }\n",
              "\n",
              "  /**\n",
              "   * Handle when a new output is added\n",
              "   */\n",
              "  function handleAddOutput(event, handle) {\n",
              "    var output_area = handle.output_area;\n",
              "    var output = handle.output;\n",
              "\n",
              "    // limit handleAddOutput to display_data with EXEC_MIME_TYPE content only\n",
              "    if ((output.output_type != \"display_data\") || (!Object.prototype.hasOwnProperty.call(output.data, EXEC_MIME_TYPE))) {\n",
              "      return\n",
              "    }\n",
              "\n",
              "    var toinsert = output_area.element.find(\".\" + CLASS_NAME.split(' ')[0]);\n",
              "\n",
              "    if (output.metadata[EXEC_MIME_TYPE][\"id\"] !== undefined) {\n",
              "      toinsert[toinsert.length - 1].firstChild.textContent = output.data[JS_MIME_TYPE];\n",
              "      // store reference to embed id on output_area\n",
              "      output_area._bokeh_element_id = output.metadata[EXEC_MIME_TYPE][\"id\"];\n",
              "    }\n",
              "    if (output.metadata[EXEC_MIME_TYPE][\"server_id\"] !== undefined) {\n",
              "      var bk_div = document.createElement(\"div\");\n",
              "      bk_div.innerHTML = output.data[HTML_MIME_TYPE];\n",
              "      var script_attrs = bk_div.children[0].attributes;\n",
              "      for (var i = 0; i < script_attrs.length; i++) {\n",
              "        toinsert[toinsert.length - 1].firstChild.setAttribute(script_attrs[i].name, script_attrs[i].value);\n",
              "        toinsert[toinsert.length - 1].firstChild.textContent = bk_div.children[0].textContent\n",
              "      }\n",
              "      // store reference to server id on output_area\n",
              "      output_area._bokeh_server_id = output.metadata[EXEC_MIME_TYPE][\"server_id\"];\n",
              "    }\n",
              "  }\n",
              "\n",
              "  function register_renderer(events, OutputArea) {\n",
              "\n",
              "    function append_mime(data, metadata, element) {\n",
              "      // create a DOM node to render to\n",
              "      var toinsert = this.create_output_subarea(\n",
              "        metadata,\n",
              "        CLASS_NAME,\n",
              "        EXEC_MIME_TYPE\n",
              "      );\n",
              "      this.keyboard_manager.register_events(toinsert);\n",
              "      // Render to node\n",
              "      var props = {data: data, metadata: metadata[EXEC_MIME_TYPE]};\n",
              "      render(props, toinsert[toinsert.length - 1]);\n",
              "      element.append(toinsert);\n",
              "      return toinsert\n",
              "    }\n",
              "\n",
              "    /* Handle when an output is cleared or removed */\n",
              "    events.on('clear_output.CodeCell', handleClearOutput);\n",
              "    events.on('delete.Cell', handleClearOutput);\n",
              "\n",
              "    /* Handle when a new output is added */\n",
              "    events.on('output_added.OutputArea', handleAddOutput);\n",
              "\n",
              "    /**\n",
              "     * Register the mime type and append_mime function with output_area\n",
              "     */\n",
              "    OutputArea.prototype.register_mime_type(EXEC_MIME_TYPE, append_mime, {\n",
              "      /* Is output safe? */\n",
              "      safe: true,\n",
              "      /* Index of renderer in `output_area.display_order` */\n",
              "      index: 0\n",
              "    });\n",
              "  }\n",
              "\n",
              "  // register the mime type if in Jupyter Notebook environment and previously unregistered\n",
              "  if (root.Jupyter !== undefined) {\n",
              "    var events = require('base/js/events');\n",
              "    var OutputArea = require('notebook/js/outputarea').OutputArea;\n",
              "\n",
              "    if (OutputArea.prototype.mime_types().indexOf(EXEC_MIME_TYPE) == -1) {\n",
              "      register_renderer(events, OutputArea);\n",
              "    }\n",
              "  }\n",
              "\n",
              "  \n",
              "  if (typeof (root._bokeh_timeout) === \"undefined\" || force === true) {\n",
              "    root._bokeh_timeout = Date.now() + 5000;\n",
              "    root._bokeh_failed_load = false;\n",
              "  }\n",
              "\n",
              "  var NB_LOAD_WARNING = {'data': {'text/html':\n",
              "     \"<div style='background-color: #fdd'>\\n\"+\n",
              "     \"<p>\\n\"+\n",
              "     \"BokehJS does not appear to have successfully loaded. If loading BokehJS from CDN, this \\n\"+\n",
              "     \"may be due to a slow or bad network connection. Possible fixes:\\n\"+\n",
              "     \"</p>\\n\"+\n",
              "     \"<ul>\\n\"+\n",
              "     \"<li>re-rerun `output_notebook()` to attempt to load from CDN again, or</li>\\n\"+\n",
              "     \"<li>use INLINE resources instead, as so:</li>\\n\"+\n",
              "     \"</ul>\\n\"+\n",
              "     \"<code>\\n\"+\n",
              "     \"from bokeh.resources import INLINE\\n\"+\n",
              "     \"output_notebook(resources=INLINE)\\n\"+\n",
              "     \"</code>\\n\"+\n",
              "     \"</div>\"}};\n",
              "\n",
              "  function display_loaded() {\n",
              "    var el = document.getElementById(null);\n",
              "    if (el != null) {\n",
              "      el.textContent = \"BokehJS is loading...\";\n",
              "    }\n",
              "    if (root.Bokeh !== undefined) {\n",
              "      if (el != null) {\n",
              "        el.textContent = \"BokehJS \" + root.Bokeh.version + \" successfully loaded.\";\n",
              "      }\n",
              "    } else if (Date.now() < root._bokeh_timeout) {\n",
              "      setTimeout(display_loaded, 100)\n",
              "    }\n",
              "  }\n",
              "\n",
              "\n",
              "  function run_callbacks() {\n",
              "    try {\n",
              "      root._bokeh_onload_callbacks.forEach(function(callback) {\n",
              "        if (callback != null)\n",
              "          callback();\n",
              "      });\n",
              "    } finally {\n",
              "      delete root._bokeh_onload_callbacks\n",
              "    }\n",
              "    console.debug(\"Bokeh: all callbacks have finished\");\n",
              "  }\n",
              "\n",
              "  function load_libs(css_urls, js_urls, callback) {\n",
              "    if (css_urls == null) css_urls = [];\n",
              "    if (js_urls == null) js_urls = [];\n",
              "\n",
              "    root._bokeh_onload_callbacks.push(callback);\n",
              "    if (root._bokeh_is_loading > 0) {\n",
              "      console.debug(\"Bokeh: BokehJS is being loaded, scheduling callback at\", now());\n",
              "      return null;\n",
              "    }\n",
              "    if (js_urls == null || js_urls.length === 0) {\n",
              "      run_callbacks();\n",
              "      return null;\n",
              "    }\n",
              "    console.debug(\"Bokeh: BokehJS not loaded, scheduling load and callback at\", now());\n",
              "    root._bokeh_is_loading = css_urls.length + js_urls.length;\n",
              "\n",
              "    function on_load() {\n",
              "      root._bokeh_is_loading--;\n",
              "      if (root._bokeh_is_loading === 0) {\n",
              "        console.debug(\"Bokeh: all BokehJS libraries/stylesheets loaded\");\n",
              "        run_callbacks()\n",
              "      }\n",
              "    }\n",
              "\n",
              "    function on_error(url) {\n",
              "      console.error(\"failed to load \" + url);\n",
              "    }\n",
              "\n",
              "    for (let i = 0; i < css_urls.length; i++) {\n",
              "      const url = css_urls[i];\n",
              "      const element = document.createElement(\"link\");\n",
              "      element.onload = on_load;\n",
              "      element.onerror = on_error.bind(null, url);\n",
              "      element.rel = \"stylesheet\";\n",
              "      element.type = \"text/css\";\n",
              "      element.href = url;\n",
              "      console.debug(\"Bokeh: injecting link tag for BokehJS stylesheet: \", url);\n",
              "      document.body.appendChild(element);\n",
              "    }\n",
              "\n",
              "    const hashes = {\"https://cdn.bokeh.org/bokeh/release/bokeh-2.3.3.min.js\": \"dM3QQsP+wXdHg42wTqW85BjZQdLNNIXqlPw/BgKoExPmTG7ZLML4EGqLMfqHT6ON\", \"https://cdn.bokeh.org/bokeh/release/bokeh-tables-2.3.3.min.js\": \"8x57I4YuIfu8XyZfFo0XVr2WAT8EK4rh/uDe3wF7YuW2FNUSNEpJbsPaB1nJ2fz2\", \"https://cdn.bokeh.org/bokeh/release/bokeh-widgets-2.3.3.min.js\": \"3QTqdz9LyAm2i0sG5XTePsHec3UHWwVsrOL68SYRoAXsafvfAyqtQ+h440+qIBhS\"};\n",
              "\n",
              "    for (let i = 0; i < js_urls.length; i++) {\n",
              "      const url = js_urls[i];\n",
              "      const element = document.createElement('script');\n",
              "      element.onload = on_load;\n",
              "      element.onerror = on_error.bind(null, url);\n",
              "      element.async = false;\n",
              "      element.src = url;\n",
              "      if (url in hashes) {\n",
              "        element.crossOrigin = \"anonymous\";\n",
              "        element.integrity = \"sha384-\" + hashes[url];\n",
              "      }\n",
              "      console.debug(\"Bokeh: injecting script tag for BokehJS library: \", url);\n",
              "      document.head.appendChild(element);\n",
              "    }\n",
              "  };\n",
              "\n",
              "  function inject_raw_css(css) {\n",
              "    const element = document.createElement(\"style\");\n",
              "    element.appendChild(document.createTextNode(css));\n",
              "    document.body.appendChild(element);\n",
              "  }\n",
              "\n",
              "  \n",
              "  var js_urls = [\"https://cdn.bokeh.org/bokeh/release/bokeh-2.3.3.min.js\", \"https://cdn.bokeh.org/bokeh/release/bokeh-widgets-2.3.3.min.js\", \"https://cdn.bokeh.org/bokeh/release/bokeh-tables-2.3.3.min.js\"];\n",
              "  var css_urls = [];\n",
              "  \n",
              "\n",
              "  var inline_js = [\n",
              "    function(Bokeh) {\n",
              "      Bokeh.set_log_level(\"info\");\n",
              "    },\n",
              "    function(Bokeh) {\n",
              "    \n",
              "    \n",
              "    }\n",
              "  ];\n",
              "\n",
              "  function run_inline_js() {\n",
              "    \n",
              "    if (root.Bokeh !== undefined || force === true) {\n",
              "      \n",
              "    for (var i = 0; i < inline_js.length; i++) {\n",
              "      inline_js[i].call(root, root.Bokeh);\n",
              "    }\n",
              "    } else if (Date.now() < root._bokeh_timeout) {\n",
              "      setTimeout(run_inline_js, 100);\n",
              "    } else if (!root._bokeh_failed_load) {\n",
              "      console.log(\"Bokeh: BokehJS failed to load within specified timeout.\");\n",
              "      root._bokeh_failed_load = true;\n",
              "    } else if (force !== true) {\n",
              "      var cell = $(document.getElementById(null)).parents('.cell').data().cell;\n",
              "      cell.output_area.append_execute_result(NB_LOAD_WARNING)\n",
              "    }\n",
              "\n",
              "  }\n",
              "\n",
              "  if (root._bokeh_is_loading === 0) {\n",
              "    console.debug(\"Bokeh: BokehJS loaded, going straight to plotting\");\n",
              "    run_inline_js();\n",
              "  } else {\n",
              "    load_libs(css_urls, js_urls, function() {\n",
              "      console.debug(\"Bokeh: BokehJS plotting callback run at\", now());\n",
              "      run_inline_js();\n",
              "    });\n",
              "  }\n",
              "}(window));"
            ],
            "application/vnd.bokehjs_load.v0+json": "\n(function(root) {\n  function now() {\n    return new Date();\n  }\n\n  var force = true;\n\n  if (typeof root._bokeh_onload_callbacks === \"undefined\" || force === true) {\n    root._bokeh_onload_callbacks = [];\n    root._bokeh_is_loading = undefined;\n  }\n\n  \n\n  \n  if (typeof (root._bokeh_timeout) === \"undefined\" || force === true) {\n    root._bokeh_timeout = Date.now() + 5000;\n    root._bokeh_failed_load = false;\n  }\n\n  var NB_LOAD_WARNING = {'data': {'text/html':\n     \"<div style='background-color: #fdd'>\\n\"+\n     \"<p>\\n\"+\n     \"BokehJS does not appear to have successfully loaded. If loading BokehJS from CDN, this \\n\"+\n     \"may be due to a slow or bad network connection. Possible fixes:\\n\"+\n     \"</p>\\n\"+\n     \"<ul>\\n\"+\n     \"<li>re-rerun `output_notebook()` to attempt to load from CDN again, or</li>\\n\"+\n     \"<li>use INLINE resources instead, as so:</li>\\n\"+\n     \"</ul>\\n\"+\n     \"<code>\\n\"+\n     \"from bokeh.resources import INLINE\\n\"+\n     \"output_notebook(resources=INLINE)\\n\"+\n     \"</code>\\n\"+\n     \"</div>\"}};\n\n  function display_loaded() {\n    var el = document.getElementById(null);\n    if (el != null) {\n      el.textContent = \"BokehJS is loading...\";\n    }\n    if (root.Bokeh !== undefined) {\n      if (el != null) {\n        el.textContent = \"BokehJS \" + root.Bokeh.version + \" successfully loaded.\";\n      }\n    } else if (Date.now() < root._bokeh_timeout) {\n      setTimeout(display_loaded, 100)\n    }\n  }\n\n\n  function run_callbacks() {\n    try {\n      root._bokeh_onload_callbacks.forEach(function(callback) {\n        if (callback != null)\n          callback();\n      });\n    } finally {\n      delete root._bokeh_onload_callbacks\n    }\n    console.debug(\"Bokeh: all callbacks have finished\");\n  }\n\n  function load_libs(css_urls, js_urls, callback) {\n    if (css_urls == null) css_urls = [];\n    if (js_urls == null) js_urls = [];\n\n    root._bokeh_onload_callbacks.push(callback);\n    if (root._bokeh_is_loading > 0) {\n      console.debug(\"Bokeh: BokehJS is being loaded, scheduling callback at\", now());\n      return null;\n    }\n    if (js_urls == null || js_urls.length === 0) {\n      run_callbacks();\n      return null;\n    }\n    console.debug(\"Bokeh: BokehJS not loaded, scheduling load and callback at\", now());\n    root._bokeh_is_loading = css_urls.length + js_urls.length;\n\n    function on_load() {\n      root._bokeh_is_loading--;\n      if (root._bokeh_is_loading === 0) {\n        console.debug(\"Bokeh: all BokehJS libraries/stylesheets loaded\");\n        run_callbacks()\n      }\n    }\n\n    function on_error(url) {\n      console.error(\"failed to load \" + url);\n    }\n\n    for (let i = 0; i < css_urls.length; i++) {\n      const url = css_urls[i];\n      const element = document.createElement(\"link\");\n      element.onload = on_load;\n      element.onerror = on_error.bind(null, url);\n      element.rel = \"stylesheet\";\n      element.type = \"text/css\";\n      element.href = url;\n      console.debug(\"Bokeh: injecting link tag for BokehJS stylesheet: \", url);\n      document.body.appendChild(element);\n    }\n\n    const hashes = {\"https://cdn.bokeh.org/bokeh/release/bokeh-2.3.3.min.js\": \"dM3QQsP+wXdHg42wTqW85BjZQdLNNIXqlPw/BgKoExPmTG7ZLML4EGqLMfqHT6ON\", \"https://cdn.bokeh.org/bokeh/release/bokeh-tables-2.3.3.min.js\": \"8x57I4YuIfu8XyZfFo0XVr2WAT8EK4rh/uDe3wF7YuW2FNUSNEpJbsPaB1nJ2fz2\", \"https://cdn.bokeh.org/bokeh/release/bokeh-widgets-2.3.3.min.js\": \"3QTqdz9LyAm2i0sG5XTePsHec3UHWwVsrOL68SYRoAXsafvfAyqtQ+h440+qIBhS\"};\n\n    for (let i = 0; i < js_urls.length; i++) {\n      const url = js_urls[i];\n      const element = document.createElement('script');\n      element.onload = on_load;\n      element.onerror = on_error.bind(null, url);\n      element.async = false;\n      element.src = url;\n      if (url in hashes) {\n        element.crossOrigin = \"anonymous\";\n        element.integrity = \"sha384-\" + hashes[url];\n      }\n      console.debug(\"Bokeh: injecting script tag for BokehJS library: \", url);\n      document.head.appendChild(element);\n    }\n  };\n\n  function inject_raw_css(css) {\n    const element = document.createElement(\"style\");\n    element.appendChild(document.createTextNode(css));\n    document.body.appendChild(element);\n  }\n\n  \n  var js_urls = [\"https://cdn.bokeh.org/bokeh/release/bokeh-2.3.3.min.js\", \"https://cdn.bokeh.org/bokeh/release/bokeh-widgets-2.3.3.min.js\", \"https://cdn.bokeh.org/bokeh/release/bokeh-tables-2.3.3.min.js\"];\n  var css_urls = [];\n  \n\n  var inline_js = [\n    function(Bokeh) {\n      Bokeh.set_log_level(\"info\");\n    },\n    function(Bokeh) {\n    \n    \n    }\n  ];\n\n  function run_inline_js() {\n    \n    if (root.Bokeh !== undefined || force === true) {\n      \n    for (var i = 0; i < inline_js.length; i++) {\n      inline_js[i].call(root, root.Bokeh);\n    }\n    } else if (Date.now() < root._bokeh_timeout) {\n      setTimeout(run_inline_js, 100);\n    } else if (!root._bokeh_failed_load) {\n      console.log(\"Bokeh: BokehJS failed to load within specified timeout.\");\n      root._bokeh_failed_load = true;\n    } else if (force !== true) {\n      var cell = $(document.getElementById(null)).parents('.cell').data().cell;\n      cell.output_area.append_execute_result(NB_LOAD_WARNING)\n    }\n\n  }\n\n  if (root._bokeh_is_loading === 0) {\n    console.debug(\"Bokeh: BokehJS loaded, going straight to plotting\");\n    run_inline_js();\n  } else {\n    load_libs(css_urls, js_urls, function() {\n      console.debug(\"Bokeh: BokehJS plotting callback run at\", now());\n      run_inline_js();\n    });\n  }\n}(window));"
          },
          "metadata": {}
        },
        {
          "output_type": "display_data",
          "data": {
            "text/html": [
              "\n",
              "\n",
              "\n",
              "\n",
              "\n",
              "\n",
              "  <div class=\"bk-root\" id=\"de4f13f7-7c54-4b55-a688-c3b0b77ebbc4\" data-root-id=\"1120\"></div>\n"
            ]
          },
          "metadata": {}
        },
        {
          "output_type": "display_data",
          "data": {
            "application/javascript": [
              "(function(root) {\n",
              "  function embed_document(root) {\n",
              "    \n",
              "  var docs_json = {\"97f6dc7a-fcb4-4688-b6b5-3353ab3da9bf\":{\"defs\":[],\"roots\":{\"references\":[{\"attributes\":{\"children\":[{\"id\":\"1002\"},{\"id\":\"1035\"}]},\"id\":\"1120\",\"type\":\"Column\"},{\"attributes\":{\"below\":[{\"id\":\"1046\"}],\"center\":[{\"id\":\"1049\"},{\"id\":\"1053\"},{\"id\":\"1118\"}],\"height\":250,\"left\":[{\"id\":\"1050\"}],\"renderers\":[{\"id\":\"1106\"}],\"title\":{\"id\":\"1036\"},\"toolbar\":{\"id\":\"1061\"},\"x_range\":{\"id\":\"1038\"},\"x_scale\":{\"id\":\"1042\"},\"y_range\":{\"id\":\"1040\"},\"y_scale\":{\"id\":\"1044\"}},\"id\":\"1035\",\"subtype\":\"Figure\",\"type\":\"Plot\"},{\"attributes\":{\"line_alpha\":0.1,\"line_color\":\"red\",\"line_width\":2,\"x\":{\"field\":\"x\"},\"y\":{\"field\":\"y\"}},\"id\":\"1105\",\"type\":\"Line\"},{\"attributes\":{},\"id\":\"1022\",\"type\":\"WheelZoomTool\"},{\"attributes\":{},\"id\":\"1109\",\"type\":\"BasicTickFormatter\"},{\"attributes\":{},\"id\":\"1009\",\"type\":\"LinearScale\"},{\"attributes\":{\"below\":[{\"id\":\"1013\"}],\"center\":[{\"id\":\"1016\"},{\"id\":\"1020\"},{\"id\":\"1083\"}],\"height\":250,\"left\":[{\"id\":\"1017\"}],\"renderers\":[{\"id\":\"1071\"},{\"id\":\"1088\"}],\"title\":{\"id\":\"1003\"},\"toolbar\":{\"id\":\"1028\"},\"x_range\":{\"id\":\"1005\"},\"x_scale\":{\"id\":\"1009\"},\"y_range\":{\"id\":\"1007\"},\"y_scale\":{\"id\":\"1011\"}},\"id\":\"1002\",\"subtype\":\"Figure\",\"type\":\"Plot\"},{\"attributes\":{\"data\":{\"x\":{\"__ndarray__\":\"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\",\"dtype\":\"float64\",\"order\":\"little\",\"shape\":[501]},\"y\":{\"__ndarray__\":\"AAAAAAAA8D92N2n4YBTwP9cEv7baKPA/e8VOf2498D/o72RyHFLwP6NIC7LkZvA/A+zkX8d78D+kYzKaxJDwPxGOR4HcpfA/ayd2OQ+78D8auu7lXNDwP8O0uqnF5fA/0S9qp0n78D+Z9Y8B6RDxPxGp0dqjJvE/zSIDVno88T8zriaWbFLxP80Ta756aPE/S3gq8qR+8T/HW/ZU65TxPwrBiQpOq/E/veTPNs3B8T+Jl9v9aNjxPzQ57oMh7/E/Sot27fYF8j8Z2RBf6RzyP6lzh/34M/I/FwbT7SVL8j/WwhpVcGLyP8GLtFjYefI/DiUlHl6R8j9pcCDLAanyP22piYXDwPI/hKBzc6PY8j/B9CC7ofDyP9hNBIO+CPM/spbA8fkg8z9+OCkuVDnzP05TQl/NUfM/QvxArGVq8z+bfYs8HYPzPw+QuTf0m/M/O5SUxeq08z9OzhcOAc7zP1ykcDk35/M/sdz+b40A9D/92lTaAxr0PzzdN6GaM/Q/WTmg7VFN9D+Mm7noKWf0P+hE47sigfQ/9EmwkDyb9D9w0eeQd7X0P3dThebTz/Q/9di4u1Hq9D9lO+c68QT1P75kqo6yH/U/qo/R4ZU69T8BiGFfm1X1P43rlDLDcPU/E2vchg2M9T+aC9+Heqf1P/5nemEKw/U/wvLCP73e9T8pOARPk/r1P5kgwbuMFvY/OTO0sqky9j/b2M9g6k72PyufPvNOa/Y/JHxjl9eH9j/DEdp6hKT2PwjydstVwfY/OeNHt0ve9j9qJJRsZvv2P0my3BmmGPc/NIzc7Qo29z+Q+YgXlVP3P2jPEcZEcfc/TrbhKBqP9z+GcJ5vFa33P3UgKco2y/c/VI+eaH7p9z8ndFd77Af4P/266DKBJvg/dMwjwDxF+D+B1RZUH2T4P30PDSApg/g/egiPVVqi+D/Y62Ims8H4PyTLjMQz4fg/NudOYtwA+T+b+SkyrSD5Pzx+3WamQPk/Tv1nM8hg+T+GVQfLEoH5P40GOWGGofk/vHu6KSPC+T8bV4lY6eL5P6C84yHZA/o/uZ1IuvIk+j8OBXhWNkb6P49icyukZ/o/v9d9bjyJ+j9GhBxV/6r6P7/SFhXtzPo/zcV25AXv+j9sRYn5SRH7P4ps3oq5M/s/2tZJz1RW+z/o7uL9G3n7P3Q8BU4PnPs/ALNQ9y6/+z+qAKoxe+L7PzrdOjX0Bfw/dFlyOpop/D+nLgV6bU38P3cO7ixucfw/4/JtjJyV/D+ObgzS+Ln8Pzf9lzeD3vw/d1Qm9zsD/T+0tBRLIyj9P046CG45Tf0/Bi/umn5y/T+bW/wM85f9P6BZsf+Wvf0/iuXUrmrj/T/vMHhWbgn+P/809jKiL/4/MAX0gAZW/j8bImF9m3z+P4zMd2Vho/4/x1i9dljK/j/4gQLvgPH+P9a9YwzbGP8/cpBJDWdA/z814GgwJWj/PwpKw7QVkP8/snWn2Ti4/z9AarHejuD/P2Fx5QGMBABAhtGVROoYAEBV5qxXYi0AQP8ZlVv0QQBAuFrgcKBWAEBqRUi4ZmsAQGxQrlJHgABAU/YbYUKVAEDO4MIEWKoAQIsT/V6IvwBALRdNkdPUAEBNJF69OeoAQINOBAW7/wBAe688ilcVAUASki1vDysBQH2dJtbiQAFAcACh4dFWAUBSnD+03GwBQG8wz3ADgwFAMYVGOkaZAUBXl8Yzpa8BQDHDmoAgxgFA2e84RLjcAUBnukGibPMBQCWhgL49CgJAvi7svCshAkBhJabBNjgCQOWp+/BeTwJA2W5lb6RmAkCT34dhB34CQCZLM+yHlQJAUQ9kNCatAkBew0Jf4sQCQOliJJK83AJAlXiK8rT0AkCrSCOmywwDQJ77ydIAJQNAdsiGnlQ9A0AbH48vx1UDQIXSRaxYbgNAxkI7OwmHA0Dxhi0D2Z8DQNiWCCvIuANApXTm2dbRA0BDVg83BesDQJfO+WlTBARAifZKmsEdBEDZldbvTzcEQLhLn5L+UARAKrfWqs1qBEAin91gvYQEQGYaRN3NngRAJLfJSP+4BEBCol3MUdMEQGPOHpHF7QRAkRpcwFoIBUCceJSDESMFQBoTdwTqPQVAD3PjbORYBUAppenmAHQFQJteypw/jwVAiyH3uKCqBUAUYRJmJMYFQMKk787K4QVAqquTHpT9BUDpjjSAgBkGQK/jOR+QNQZAtNw8J8NRBkAXawjEGW4GQLBemSGUigZAsYUebDKnBkC1y/jP9MMGQAlYu3nb4AZAWKsrlub9BkCCvEFSFhsHQMkUKNtqOAdAFOs7XuRVB0B5Pg0Jg3MHQM3vXglHkQdAZ9omjTCvB0DZ643CP80HQMk68Nd06wdAqBzd+88JCEB0OhddUSgIQEuklCr5RghA6eN+k8dlCEDiDTPHvIQIQLXRQfXYowhAvIlvTRzDCECERbT/huIIQCnXOzwZAglAFN9lM9MhCUC91MUVtUEJQJINIxS/YQlAm8J4X/GBCUC6FPYoTKIJQDQP/qHPwglAIqgn/HvjCUANvz1pUQQKQHkZPxtQJQpAfF1eRHhGCkAeCgIXymcKQIptxMVFiQpAQphzg+uqCkCqTxGDu8wKQK780ve17gpAtZchFdsQC0AMkpkOKzMLQLi8ChimVQtASCx4ZUx4C0CPGRgrHpsLQBm/U50bvgtAXDPH8EThC0BlP0FamgQMQPsxww4cKAxA7K6AQ8pLDECOet8tpW8MQAtBdwOtkwxAkVkR+uG3DEAAhahHRNwMQP+naCLUAA1AWYCuwJElDUA3VQdZfUoNQEqiMCKXbw1AYb0XU9+UDUB2dtkiVroNQKyxwcj73w1ASftKfNAFDkAcFR511CsOQEp9EesHUg5A++0oFmt4DkAE3JQu/p4OQOnhsWzBxQ5Azh4ICbXsDkBpnEo82RMPQBOtVj8uOw9ALTwzS7RiD0BpEBCZa4oPQEQERWJUsg9AaTZR4G7aD0A8GG2mXQEQQBaB1fCcFRBAx6dZbPUpEEB5KQM2Zz4QQDfo7GryUhBAaH5CKJdnEEB+qz+LVXwQQM64L7EtkRBAQtZstx+mEECibl+7K7sQQFtzfdpR0BBAJJ9JMpLlEEAAr1Lg7PoQQAaRMgJiEBFAn4iNtfElEUCHRxEYnDsRQCH7c0dhURFAXE1zYUFnEUCdWNODPH0RQOaNXcxSkxFAmozfWISpEUD06ilH0b8RQIjuDrU51hFAujNhwL3sEUBoQ/KGXQMSQKYVkSYZGhJAmIAIvfAwEkApkh1o5EcSQIrTjUX0XhJAEHUNcyB2EkAqYUUOaY0SQOI00TTOpBJAYRw9BFC8EkDKkQOa7tMSQJL8ihOq6xJAcS8jjoIDE0DQwgIneBsTQJNJRPuKMxNAsV3jJ7tLE0BBgrnJCGQTQATYev1zfBNAqaGy3/yUE0BrlL+Mo60TQMTxzyBoxhNAVWbdt0rfE0ArqqhtS/gTQO7dtF1qERRAZqBCo6cqFEAs10pZA0QUQColeZp9XRRA3QgmgRZ3FED9m1AnzpAUQHTtl6akqhRAIe4zGJrEFED85+2Urt4UQLF2GDXi+BRAwfeGEDUTFUB0Z4Q+py0VQNeeydU4SBVA3OVy7OliFUCZy/SXun0VQAg1EO2qmBVAeZHF/7qzFUDTIUfj6s4VQD4+6qk66hVAVYMXZaoFFkAAzjklOiEWQBPqq/npPBZAKdWk8LlYFkCKcyIXqnQWQHuR0ni6kBZAtQb6H+usFkBazVkVPMkWQObXEWCt5RZAxWuBBT8CF0DeviQJ8R4XQMCOb2zDOxdAfF6kLrZYF0BP/qdMyXUXQLLz0MD8khdAFUuyglCwF0A9TOGGxM0XQBp4tb5Y6xdADCICGA0JGECm28h84SYYQMzQ49LVRBhASQ6n++liGEBChXfTHYEYQNRvVjFxnxhAbIVf5uO9GEBrLDi9ddwYQBKKbXkm+xhABfa+1vUZGUAD6lGI4zgZQBwDzDfvVxlAIQxPhBh3GUBnSVIBX5YZQN1VUzXCtRlAKsVXmEHVGUBKYjeS3PQZQMIzpXiSFBpAW1nrjGI0GkCgPUv5S1QaQO5S8M1NdBpArXVf/WaUGkCv0kdYlrQaQJZ/k4ja1BpApVSNCzL1GkD0ZuYqmxUbQCfeVvQTNhtA9ZCCL5pWG0DmH7BRK3cbQPjAvm7ElxtAWR+YJmK4G0DNlBuOANkbQAVDJxKb+RtAS2fnUiwaHEDSluT0rTocQBdETmQYWxxAhYKThWJ7HEAFKklMgZscQOe9Ti5nuxxAFtKeZAPbHEB65CflQPocQIQ+w/MEGR1ANV4BJS03HUAg6NCIjFQdQO99pcLncB1A8Ec5AfCLHUCBUnXqO6UdQBx4Rz1CvB1AEPirvVrQHUAaAOTT1OAdQCTUv9o07R1AFxsL+In1HUDMguPui/odQLvlyRRI/R1AQU0HGq7+HUAmj+84Xv8dQHrpgRWz/x1A19V3jtv/HUDa7KHC7v8dQCQdk9n3/x1A/Dp1Jfz/HUAgW8Yt/v8dQPUBGCT//x1AZLoRmP//HUBRkhjP//8dQL+tHen//x1ALqDo9P//HUDEMeT6//8dQCy/n/3//x1Apzrm/v//HUCorXn///8dQHDkxP///x1AVnHg////HUA4juj///8dQNic+////x1Aeb0PAAAAHkDoCfr///8dQFfS8v///x1Al3UDAAAAHkDWve////8dQKpT/f///x1A9VEMAAAAHkAvfPn///8dQPlHb////x1A6A1o////HUAtl6v///8dQNb1x////x1AGsn4////HUBy6AMAAAAeQM+TBAAAAB5AR/EHAAAAHkBYvAcAAAAeQFn2BAAAAB5Au0sCAAAAHkBwyAAAAAAeQJw5AAAAAB5AEg0AAAAAHkCsAQAAAAAeQPYAAAAAAB5AjgAAAAAAHkBTAAAAAAAeQDEAAAAAAB5AHgAAAAAAHkATAAAAAAAeQA0AAAAAAB5ACgAAAAAAHkAIAAAAAAAeQAcAAAAAAB5ABwAAAAAAHkAGAAAAAAAeQAYAAAAAAB5ABgAAAAAAHkAGAAAAAAAeQAYAAAAAAB5ABgAAAAAAHkAGAAAAAAAeQAYAAAAAAB5ABgAAAAAAHkAGAAAAAAAeQAYAAAAAAB5ABgAAAAAAHkAGAAAAAAAeQAYAAAAAAB5ABgAAAAAAHkAGAAAAAAAeQAYAAAAAAB5ABgAAAAAAHkAGAAAAAAAeQAYAAAAAAB5ABgAAAAAAHkAGAAAAAAAeQAYAAAAAAB5ABgAAAAAAHkAGAAAAAAAeQAYAAAAAAB5ABgAAAAAAHkAGAAAAAAAeQAYAAAAAAB5A\",\"dtype\":\"float64\",\"order\":\"little\",\"shape\":[501]}},\"selected\":{\"id\":\"1081\"},\"selection_policy\":{\"id\":\"1082\"}},\"id\":\"1068\",\"type\":\"ColumnDataSource\"},{\"attributes\":{},\"id\":\"1054\",\"type\":\"PanTool\"},{\"attributes\":{},\"id\":\"1021\",\"type\":\"PanTool\"},{\"attributes\":{\"overlay\":{\"id\":\"1027\"}},\"id\":\"1023\",\"type\":\"BoxZoomTool\"},{\"attributes\":{},\"id\":\"1047\",\"type\":\"BasicTicker\"},{\"attributes\":{\"data_source\":{\"id\":\"1085\"},\"glyph\":{\"id\":\"1086\"},\"hover_glyph\":null,\"muted_glyph\":null,\"nonselection_glyph\":{\"id\":\"1087\"},\"view\":{\"id\":\"1089\"}},\"id\":\"1088\",\"type\":\"GlyphRenderer\"},{\"attributes\":{},\"id\":\"1055\",\"type\":\"WheelZoomTool\"},{\"attributes\":{},\"id\":\"1111\",\"type\":\"AllLabels\"},{\"attributes\":{\"axis\":{\"id\":\"1046\"},\"ticker\":null},\"id\":\"1049\",\"type\":\"Grid\"},{\"attributes\":{},\"id\":\"1024\",\"type\":\"SaveTool\"},{\"attributes\":{},\"id\":\"1005\",\"type\":\"DataRange1d\"},{\"attributes\":{},\"id\":\"1074\",\"type\":\"BasicTickFormatter\"},{\"attributes\":{\"overlay\":{\"id\":\"1060\"}},\"id\":\"1056\",\"type\":\"BoxZoomTool\"},{\"attributes\":{},\"id\":\"1007\",\"type\":\"DataRange1d\"},{\"attributes\":{},\"id\":\"1025\",\"type\":\"ResetTool\"},{\"attributes\":{},\"id\":\"1057\",\"type\":\"SaveTool\"},{\"attributes\":{},\"id\":\"1076\",\"type\":\"AllLabels\"},{\"attributes\":{},\"id\":\"1026\",\"type\":\"HelpTool\"},{\"attributes\":{\"source\":{\"id\":\"1085\"}},\"id\":\"1089\",\"type\":\"CDSView\"},{\"attributes\":{},\"id\":\"1058\",\"type\":\"ResetTool\"},{\"attributes\":{},\"id\":\"1011\",\"type\":\"LinearScale\"},{\"attributes\":{},\"id\":\"1042\",\"type\":\"LinearScale\"},{\"attributes\":{\"data_source\":{\"id\":\"1068\"},\"glyph\":{\"id\":\"1069\"},\"hover_glyph\":null,\"muted_glyph\":null,\"nonselection_glyph\":{\"id\":\"1070\"},\"view\":{\"id\":\"1072\"}},\"id\":\"1071\",\"type\":\"GlyphRenderer\"},{\"attributes\":{\"source\":{\"id\":\"1068\"}},\"id\":\"1072\",\"type\":\"CDSView\"},{\"attributes\":{\"line_color\":\"blue\",\"line_width\":2,\"x\":{\"field\":\"x\"},\"y\":{\"field\":\"y\"}},\"id\":\"1086\",\"type\":\"Line\"},{\"attributes\":{\"axis_label\":\"Time h\",\"formatter\":{\"id\":\"1074\"},\"major_label_policy\":{\"id\":\"1076\"},\"ticker\":{\"id\":\"1014\"}},\"id\":\"1013\",\"type\":\"LinearAxis\"},{\"attributes\":{\"label\":{\"value\":\"S\"},\"renderers\":[{\"id\":\"1088\"}]},\"id\":\"1102\",\"type\":\"LegendItem\"},{\"attributes\":{},\"id\":\"1059\",\"type\":\"HelpTool\"},{\"attributes\":{\"axis\":{\"id\":\"1017\"},\"dimension\":1,\"ticker\":null},\"id\":\"1020\",\"type\":\"Grid\"},{\"attributes\":{\"active_multi\":null,\"tools\":[{\"id\":\"1054\"},{\"id\":\"1055\"},{\"id\":\"1056\"},{\"id\":\"1057\"},{\"id\":\"1058\"},{\"id\":\"1059\"}]},\"id\":\"1061\",\"type\":\"Toolbar\"},{\"attributes\":{\"axis\":{\"id\":\"1050\"},\"dimension\":1,\"ticker\":null},\"id\":\"1053\",\"type\":\"Grid\"},{\"attributes\":{},\"id\":\"1014\",\"type\":\"BasicTicker\"},{\"attributes\":{\"line_alpha\":0.1,\"line_color\":\"blue\",\"line_width\":2,\"x\":{\"field\":\"x\"},\"y\":{\"field\":\"y\"}},\"id\":\"1087\",\"type\":\"Line\"},{\"attributes\":{\"label\":{\"value\":\"mu\"},\"renderers\":[{\"id\":\"1106\"}]},\"id\":\"1119\",\"type\":\"LegendItem\"},{\"attributes\":{\"line_color\":\"red\",\"line_width\":2,\"x\":{\"field\":\"x\"},\"y\":{\"field\":\"y\"}},\"id\":\"1104\",\"type\":\"Line\"},{\"attributes\":{\"axis\":{\"id\":\"1013\"},\"ticker\":null},\"id\":\"1016\",\"type\":\"Grid\"},{\"attributes\":{},\"id\":\"1079\",\"type\":\"AllLabels\"},{\"attributes\":{},\"id\":\"1100\",\"type\":\"Selection\"},{\"attributes\":{\"label\":{\"value\":\"X\"},\"renderers\":[{\"id\":\"1071\"}]},\"id\":\"1084\",\"type\":\"LegendItem\"},{\"attributes\":{\"bottom_units\":\"screen\",\"fill_alpha\":0.5,\"fill_color\":\"lightgrey\",\"left_units\":\"screen\",\"level\":\"overlay\",\"line_alpha\":1.0,\"line_color\":\"black\",\"line_dash\":[4,4],\"line_width\":2,\"right_units\":\"screen\",\"syncable\":false,\"top_units\":\"screen\"},\"id\":\"1060\",\"type\":\"BoxAnnotation\"},{\"attributes\":{},\"id\":\"1044\",\"type\":\"LinearScale\"},{\"attributes\":{\"line_color\":\"red\",\"line_width\":2,\"x\":{\"field\":\"x\"},\"y\":{\"field\":\"y\"}},\"id\":\"1069\",\"type\":\"Line\"},{\"attributes\":{},\"id\":\"1077\",\"type\":\"BasicTickFormatter\"},{\"attributes\":{},\"id\":\"1018\",\"type\":\"BasicTicker\"},{\"attributes\":{\"text\":\"Batch cultivation\"},\"id\":\"1003\",\"type\":\"Title\"},{\"attributes\":{\"axis_label\":\"X and S [g/L]\",\"formatter\":{\"id\":\"1077\"},\"major_label_policy\":{\"id\":\"1079\"},\"ticker\":{\"id\":\"1018\"}},\"id\":\"1017\",\"type\":\"LinearAxis\"},{\"attributes\":{},\"id\":\"1112\",\"type\":\"BasicTickFormatter\"},{\"attributes\":{},\"id\":\"1101\",\"type\":\"UnionRenderers\"},{\"attributes\":{\"items\":[{\"id\":\"1119\"}]},\"id\":\"1118\",\"type\":\"Legend\"},{\"attributes\":{},\"id\":\"1081\",\"type\":\"Selection\"},{\"attributes\":{\"line_alpha\":0.1,\"line_color\":\"red\",\"line_width\":2,\"x\":{\"field\":\"x\"},\"y\":{\"field\":\"y\"}},\"id\":\"1070\",\"type\":\"Line\"},{\"attributes\":{},\"id\":\"1051\",\"type\":\"BasicTicker\"},{\"attributes\":{},\"id\":\"1082\",\"type\":\"UnionRenderers\"},{\"attributes\":{\"items\":[{\"id\":\"1084\"},{\"id\":\"1102\"}]},\"id\":\"1083\",\"type\":\"Legend\"},{\"attributes\":{},\"id\":\"1036\",\"type\":\"Title\"},{\"attributes\":{\"data\":{\"x\":{\"__ndarray__\":\"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\",\"dtype\":\"float64\",\"order\":\"little\",\"shape\":[501]},\"y\":{\"__ndarray__\":\"e2vDNHfB3z/E12sJa8HfP5YQg8pewd8/RXwyd1LB3z/tcFEPRsHfP4jqtZI5wd8/49E1AS3B3z/kyKhaIMHfPyXh5J4Twd8/l2+9zQbB3z8sIQbn+cDfP1JjkurswN8/FJU12N/A3z8Ju8Kv0sDfP1x0DHHFwN8/3ejkG7jA3z96xx2wqsDfPw1GiC2dwN8/pSD1k4/A3z+2kDTjgcDfPx9UFht0wN8/k6dpO2bA3z9lSv1DWMDfP7t4nzRKwN8/ueodDTzA3z/W0kXNLcDfP/Lb43QfwN8/gSfEAxHA3z/HS7J5AsDfPxFSedbzv98/3bTjGeW/3z/2XbtD1r/fP42kyVPHv98/REvXSbi/3z81fqwlqb/fP/TQEOeZv98/hDzLjYq/3z9EHaIZe7/fP9gwW4prv98/A5S731u/3z96wIcZTL/fP6+Kgzc8v98/lh9yOSy/3z9bAhYfHL/fPxMKMegLv98/YV+ElPu+3z8NetAj677fP5ce1ZXavt8/wFtR6sm+3z8DiAMhub7fPwc/qTmovt8/Bl//M5e+3z8oBsIPhr7fP9OPrMx0vt8/7JF5amO+3z8V2uLoUb7fP9NqoUdAvt8/tHhthi6+3z9eZ/6kHL7fP5TGCqMKvt8/N09IgPi93z8q4Gs85r3fPzR7KdfTvd8/0EE0UMG93z/ycT6nrr3fP7Vi+dubvd8/B4EV7oi93z87TELddb3fP5FSLqlivd8/qy2HUU+93z/7fvnVO73fPxDsMDYovd8/5RrYcRS93z8RrpiIAL3fP+tAG3rsvN8/oWMHRti83z8xlwPsw7zfP1xJtWuvvN8/fdDAxJq83z9TZ8n2hbzfP7UocQFxvN8/LQtZ5Fu83z+K3CCfRrzfP1A9ZzExvN8/HJzJmhu83z/uMOTaBbzfP1/4UfHvu98/u66s3dm73z8My4yfw7vfPwJ6iTatu98/0pg4opa73z/rry7if7vfP57t/vVou98/qCA73VG73z+esnOXOrvfP0SiNyQju98/xH0Ugwu73z/KXJaz87rfP4TaR7Xbut8/gA+yh8O63z9yi1wqq7rfP9NOzZySut8/bcSI3nm63z+0uhHvYLrfPxJd6c1Hut8/AC2Pei663z8H+4D0FLrfP5jfOjv7ud8/wzM3TuG53z/Eie4sx7nfP3Ol19asud8/gHRnS5K53z+TBhGKd7nfPzuFRZJcud8/uCt0Y0G53z+ZPgr9JbnfPyoDc14Kud8/wLYXh+643z/GhV920rjfP62Cryu2uN8/npxqppm43z8DlvHlfLjfP9n6oulfuN8/0RbbsEK43z836/M6JbjfP6okRYcHuN8/lRAklem33z92kuNjy7ffP+MY1PKst98/VpJDQY633z/AYX1Ob7ffP9hSyhlQt98/JY5wojC33z/TjLPnELffPzcM1Ojwtt8/FAEQpdC23z+WiqIbsLbfPwblw0uPtt8/MVypNG623z+CPYXVTLbfP83Jhi0rtt8/yibaOwm23z86UKj/5rXfP7kIF3jEtd8/OspIpKG13z8htlyDfrXfPwuFbhRbtd8/LnaWVje13z9fPulIE7XfP672d+rutN8/ngpQOsq03z/2JXs3pbTfPx4i/+B/tN8/FfPdNVq03z/vkxU1NLTfP+Hyn90NtN8/09xyLuez3z9y6H8mwLPfP8pgtMSYs98/WC/5B3Gz3z+WxTLvSLPfP/kFQXkgs98/aSz/pPey3z8htkNxzrLfP/RI4Nykst8/AZqh5nqy3z/AU0+NULLfP2z7q88lst8/ytV0rPqx3z83y2Eiz7HfPxJLJTCjsd8/Xi5s1Hax3z+1md0NSrHfP27eGtscsd8/AVu/Ou+w3z+VWmArwbDfP8LzjKuSsN8/bebNuWOw3z/QeKVUNLDfP4tTj3oEsN8/y1wAKtSv3z+BkmZho6/fP4zjKB9yr98/6AenYUCv3z/JVzknDq/fP6ChMG7brt8/Af/VNKiu3z9dqGp5dK7fP5DHJzpArt8/K0k+dQuu3z9/rNYo1q3fP1LSEFOgrd8/P8oD8mmt3z+qnr0DM63fP0UfQ4b7rN8/FaqPd8Os3z/v8pTViqzfP1/JOp5RrN8/4dxezxes3z90f9Rm3avfP2NmZGKiq98/QWnMv2ar3z8DP798KqvfPys55Jbtqt8/9/zWC7Cq3z9yOifZcarfP21hWPwyqt8/OFThcvOp3z8SGCw6s6nfP0CDlU9yqd8/ouhssDCp3z/JwPNZ7qjfP2hQXUmrqN8/B0zOe2eo3z/peFzuIqjfPwVLDp7dp98/8X/ah5en3z+0tqeoUKffP1EETP0Ip98/8YSMgsCm3z+U6Rw1d6bfPx8CnxEtpt8/pkOiFOKl3z/USqM6lqXfP0ZaC4BJpd8/rNQv4fuk3z+cslFaraTfP9PznOddpN8/xQsohQ2k3z9ZSfMuvKPfP4A56OBpo98/lgTZlhaj3z9Axn9MwqLfP6Tfff1sot8/sUNbpRai3z9EvYU/v6HfP+QuUMdmod8/2svxNw2h3z9aSoWMsqDfP3oOCMBWoN8/p01Zzfmf3z9JKjmvm5/fP0fHR2A8n98/FFME29ue3z/aCcwZep7fP4Iu2RYXnt8/FfpBzLKd3z8ogfczTZ3fP9GOxEfmnN8/tHRMAX6c3z+/zwlaFJzfP/9ATUupm98/GBo8zjyb3z/N/M7bzprfPwVt0Gxfmt8/rVTbee6Z3z/heFn7e5nfP5/fgekHmd8/XCVXPJKY3z+0waXrGpjfP3Q6Au+hl98/HkTHPSeX3z8ezxPPqpbfP6sAyZkslt8/dhaIlKyV3z8FNLC1KpXfP8sYXPOmlN8/t71fQyGU3z8f2UWbmZPfP7JHTfAPk98/LVlmN4SS3z89/y9l9pHfP2Td9G1mkd8/HTioRdSQ3z9iweLfP5DfP+tA3y+pj98/ZBZ3KBCP3z+fkx68dI7fP5As4dzWjd8/zXpdfDaN3z85EsGLk4zfP1skxPvti98/re+kvEWL3z8U+CK+morfP3cFeu/sid8/PuVcPzyJ3z8/6++biIjfP4wuw/LRh98/NX7MMBiH3z/mCWFCW4bfP+q5LhObhd8/8DE1jteE3z+Ieb6dEITfP/9EVytGg98/6djGH3iC3z83ggZjpoHfP1OcONzQgN8/SR6fcfd/3z98p5EIGn/fP+4Dc4U4ft8/eR+my1J93z/JXoK9aHzfPzlURzx6e98/8sUPKId63z/f+cNfj3nfP0k7C8GSeN8/0Iw8KJF33z+keE5winbfP6nvxXJ+dd8/CyekB2103z9+YlMFVnPfP+2XkkA5ct8/6ddfjBZx3z9VZOG57W/fPyxdTZi+bt8/+ujP9Iht3z+qvG+aTGzfP73j8FEJa98/aqe14b5p3z9FcJ0NbWjfP9N64ZYTZ98/BzTvO7Jl3z+rDkC4SGTfP7SeLsTWYt8/msLIFFxh3z/WnZ5b2F/fP+8hjkZLXt8/J92Kf7Rc3z/5vmGsE1vfP+F6eG5oWd8/TSmIYrJX3z8qvVIg8VXfP+LZUjokVN8/04llPUtS3z9SSG2wZVDfP2DD7RNzTt8/Jamf4XJM3z+pwvuLZErfP92IvH1HSN8/5klVGRtG3z+W2l243kPfP9Wy8aqRQd8/vzIBNzM/3z/nqJOXwjzfPyiI+Ps+Ot8/ewvmhqc33z8wUINN+zTfPxexW1Y5Mt8/2uY4mGAv3z9+IeH4byzfPzvztUtmKd8/f3swUEIm3z8xyDawAiPfPw7YRf6lH98/oghrsyoc3z/RAActjxjfPyVSU6rRFN8/ZhGjSfAQ3z+YhFUF6QzfP3GxcLC5CN8/eArY8l8E3z+kpxFF2f/eP21Tiusi+94/9i5G8Tn23j9Rs+ghG/HePztJ+wLD694/Y3dVzC3m3j8Hm4RfV+DeP+oQCz472t4/4mtHftTT3j/Ficu+Hc3eP6qs4BcRxt4//sHoCqi+3j/IID1v27beP/uKF1yjrt4/tjP6Dvel3j/uwu3NzJzeP0Q3x8QZk94/Jhl53NGI3j/IBTmL533ePxKp+JtLct4/ACFT6+xl3j82PJcXuFjeP3un+yCXSt4/On9A9nA73j/WO/roKCveP78HZwOeGd4/lkbjN6oG3j8mZ6pfIfLdP0CGUvvP290/6ekGo3nD3T8cSXQO16jdP7N075OTi90/pVKU8klr3T/lcmkqgEfdP8+tsQ2iH90/50YKFPry3D8xOXnFp8DcP7LyDsmSh9w/f2PYM1lG3D9N68gON/vbP7gVMhHko9s/R/qdGmM92z/bDvzZvMPaP5KFOkGcMdo/rDw+979/2T9pSJPEMqTYPx7WgklEkdc/BUA9zmE01j+fScRxjnXUP/YhkkeiOdI/YEXvB2vZzj/oU1tXxjfIP19Z6PIqL8E/jv0swTq3tT978G9saqSoP/p+87NS0Jk/c1kZlCC8iT8o+kP+NPh4P/N7KXlh5Wc/iFpXNsq2Vj8Kmwt8doVFP/TnFG7SXDQ/mYeer0JDIz9iEHmgmjUSPx0lMRDWLQE/TPMv6hk98D4lqXRch5DePp7+vAnamsw+g29dj2m6uz5TZISjBIupPvFUPDCHwpc+Q3nBZWoDhj4NB0aK3fx0PuCBw/yceGI+brlnVSq5Uz6gYHWpOk5NPkPsYpXL7yU+XuaA3NWsQ765NZXofM4tPu96ppoVeUA+o77RfOxLIb68eh7ctlJEPqSzVrdwuxo+CIW/D+DMPr4cvJBkjkkwPm6UZxHBnHY+ScOZxtO9dz6Q5BPDwmBqPu/uzg4ug2E+orPY3EkJMj4zU2eGIIojvn2+TuD14ia+zbZjnSbbM773uKr6zlYzvl+YuGmizyi+eihW4Bf1Fr4gerjKs1D/vaICpyha/+G9cHIgZkJRwL2ZKv8SgJGQvbvK38hs74K9R8oAJeqjdb1JDUbbVLtovQ5AitTOQ1y9+qjtaL8mUL19wx0hbXVCvZGMUdJ8GDW9Tj4BfPwbKL0YfxD5so0bvbcEl/pefQ+9X2r1gH/+Ab0RvHrRkZD0vDOBb8OmgOe8owFpbizc2rxmVwASfLLOvChoDyCQisG8edSqhhIMtLxEgeraOemmvKoy+qwdL5q8pDOMWLTsjbzHqYufixmBvLTzdbXoinO8Vn8YPJxVZrx2UhtoaYZZvJfxhizmK028t+If9F6rQLyGbgDN/gwzvH6lmHu1xSW85LrZ+fPhGLyus9ZA8m8MvBpIUiT4PwC8/T+tKECS8rvGcmTkbTnlu8aygCiiQdi7hr2dUbm4y7sxJ/+kiq6/u8ureF2YGrK75MfAIK6wpLsGO/FIWaWXuxCDb+QcBou7\",\"dtype\":\"float64\",\"order\":\"little\",\"shape\":[501]}},\"selected\":{\"id\":\"1116\"},\"selection_policy\":{\"id\":\"1117\"}},\"id\":\"1103\",\"type\":\"ColumnDataSource\"},{\"attributes\":{},\"id\":\"1040\",\"type\":\"DataRange1d\"},{\"attributes\":{},\"id\":\"1117\",\"type\":\"UnionRenderers\"},{\"attributes\":{\"data_source\":{\"id\":\"1103\"},\"glyph\":{\"id\":\"1104\"},\"hover_glyph\":null,\"muted_glyph\":null,\"nonselection_glyph\":{\"id\":\"1105\"},\"view\":{\"id\":\"1107\"}},\"id\":\"1106\",\"type\":\"GlyphRenderer\"},{\"attributes\":{\"axis_label\":\"mu [1/h]\",\"formatter\":{\"id\":\"1112\"},\"major_label_policy\":{\"id\":\"1114\"},\"ticker\":{\"id\":\"1051\"}},\"id\":\"1050\",\"type\":\"LinearAxis\"},{\"attributes\":{},\"id\":\"1116\",\"type\":\"Selection\"},{\"attributes\":{},\"id\":\"1038\",\"type\":\"DataRange1d\"},{\"attributes\":{\"data\":{\"x\":{\"__ndarray__\":\"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\",\"dtype\":\"float64\",\"order\":\"little\",\"shape\":[501]},\"y\":{\"__ndarray__\":\"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\",\"dtype\":\"float64\",\"order\":\"little\",\"shape\":[501]}},\"selected\":{\"id\":\"1100\"},\"selection_policy\":{\"id\":\"1101\"}},\"id\":\"1085\",\"type\":\"ColumnDataSource\"},{\"attributes\":{\"source\":{\"id\":\"1103\"}},\"id\":\"1107\",\"type\":\"CDSView\"},{\"attributes\":{\"active_multi\":null,\"tools\":[{\"id\":\"1021\"},{\"id\":\"1022\"},{\"id\":\"1023\"},{\"id\":\"1024\"},{\"id\":\"1025\"},{\"id\":\"1026\"}]},\"id\":\"1028\",\"type\":\"Toolbar\"},{\"attributes\":{\"bottom_units\":\"screen\",\"fill_alpha\":0.5,\"fill_color\":\"lightgrey\",\"left_units\":\"screen\",\"level\":\"overlay\",\"line_alpha\":1.0,\"line_color\":\"black\",\"line_dash\":[4,4],\"line_width\":2,\"right_units\":\"screen\",\"syncable\":false,\"top_units\":\"screen\"},\"id\":\"1027\",\"type\":\"BoxAnnotation\"},{\"attributes\":{},\"id\":\"1114\",\"type\":\"AllLabels\"},{\"attributes\":{\"axis_label\":\"Time [h]\",\"formatter\":{\"id\":\"1109\"},\"major_label_policy\":{\"id\":\"1111\"},\"ticker\":{\"id\":\"1047\"}},\"id\":\"1046\",\"type\":\"LinearAxis\"}],\"root_ids\":[\"1120\"]},\"title\":\"Bokeh Application\",\"version\":\"2.3.3\"}};\n",
              "  var render_items = [{\"docid\":\"97f6dc7a-fcb4-4688-b6b5-3353ab3da9bf\",\"root_ids\":[\"1120\"],\"roots\":{\"1120\":\"de4f13f7-7c54-4b55-a688-c3b0b77ebbc4\"}}];\n",
              "  root.Bokeh.embed.embed_items_notebook(docs_json, render_items);\n",
              "\n",
              "  }\n",
              "  if (root.Bokeh !== undefined) {\n",
              "    embed_document(root);\n",
              "  } else {\n",
              "    var attempts = 0;\n",
              "    var timer = setInterval(function(root) {\n",
              "      if (root.Bokeh !== undefined) {\n",
              "        clearInterval(timer);\n",
              "        embed_document(root);\n",
              "      } else {\n",
              "        attempts++;\n",
              "        if (attempts > 100) {\n",
              "          clearInterval(timer);\n",
              "          console.log(\"Bokeh: ERROR: Unable to run BokehJS code because BokehJS library is missing\");\n",
              "        }\n",
              "      }\n",
              "    }, 10, root)\n",
              "  }\n",
              "})(window);"
            ],
            "application/vnd.bokehjs_exec.v0+json": ""
          },
          "metadata": {
            "application/vnd.bokehjs_exec.v0+json": {
              "id": "1120"
            }
          }
        }
      ]
    }
  ]
}