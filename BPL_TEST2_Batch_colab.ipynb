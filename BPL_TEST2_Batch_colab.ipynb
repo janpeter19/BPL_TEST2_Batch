{
 "cells": [
  {
   "cell_type": "markdown",
   "metadata": {
    "colab_type": "text",
    "id": "view-in-github"
   },
   "source": [
    "<a href=\"https://colab.research.google.com/github/janpeter19/BPL_TEST2_Batch/blob/main/BPL_TEST2_Batch_colab_me.ipynb\" target=\"_parent\"><img src=\"https://colab.research.google.com/assets/colab-badge.svg\" alt=\"Open In Colab\"/></a>"
   ]
  },
  {
   "cell_type": "markdown",
   "metadata": {
    "id": "UFcMzs4Y3HwH"
   },
   "source": [
    "# BPL_TEST2_Batch script with PyFMI ver 2.9.8\n",
    "\n",
    "The key library PyFMI ver 2.9.8 is installed. \n",
    "\n",
    "After the installation a small application BPL_TEST2_Batch is loaded and run. You can continue with this example if you like."
   ]
  },
  {
   "cell_type": "code",
   "execution_count": 1,
   "metadata": {
    "colab": {
     "base_uri": "https://localhost:8080/"
    },
    "id": "ID68dwep2zus",
    "outputId": "804597d0-4f0c-49ba-e5dc-b248935d63c9"
   },
   "outputs": [
    {
     "name": "stdout",
     "output_type": "stream",
     "text": [
      "No LSB modules are available.\r\n",
      "Distributor ID:\tUbuntu\r\n",
      "Description:\tUbuntu 20.04.6 LTS\r\n",
      "Release:\t20.04\r\n",
      "Codename:\tfocal\r\n"
     ]
    }
   ],
   "source": [
    "!lsb_release -a # Actual VM Ubuntu version used by Google"
   ]
  },
  {
   "cell_type": "code",
   "execution_count": 2,
   "metadata": {
    "colab": {
     "base_uri": "https://localhost:8080/"
    },
    "id": "pVDcSg-j3SSV",
    "outputId": "ce0dacf3-1aa1-47f1-e5b3-27c57fc61bb0"
   },
   "outputs": [
    {
     "name": "stdout",
     "output_type": "stream",
     "text": [
      "env: PYTHONPATH=\n"
     ]
    }
   ],
   "source": [
    "%env PYTHONPATH="
   ]
  },
  {
   "cell_type": "code",
   "execution_count": 3,
   "metadata": {
    "colab": {
     "base_uri": "https://localhost:8080/"
    },
    "id": "04VeBmLU3UFx",
    "outputId": "da99939c-c945-4a03-c1f1-9ab7cb72b13b"
   },
   "outputs": [
    {
     "name": "stdout",
     "output_type": "stream",
     "text": [
      "--2023-03-21 08:39:31--  https://repo.anaconda.com/miniconda/Miniconda3-py38_22.11.1-1-Linux-x86_64.sh\n",
      "Resolving repo.anaconda.com (repo.anaconda.com)... 104.16.130.3, 104.16.131.3, 2606:4700::6810:8303, ...\n",
      "Connecting to repo.anaconda.com (repo.anaconda.com)|104.16.130.3|:443... connected.\n",
      "HTTP request sent, awaiting response... 200 OK\n",
      "Length: 64630241 (62M) [application/x-sh]\n",
      "Saving to: ‘Miniconda3-py38_22.11.1-1-Linux-x86_64.sh’\n",
      "\n",
      "Miniconda3-py38_22. 100%[===================>]  61,64M  7,65MB/s    in 8,4s    \n",
      "\n",
      "2023-03-21 08:39:39 (7,30 MB/s) - ‘Miniconda3-py38_22.11.1-1-Linux-x86_64.sh’ saved [64630241/64630241]\n",
      "\n",
      "PREFIX=/usr/local\n",
      "./Miniconda3-py38_22.11.1-1-Linux-x86_64.sh: line 396: /usr/local/conda.exe: Permission denied\n",
      "chmod: cannot access '/usr/local/conda.exe': No such file or directory\n",
      "mkdir: cannot create directory ‘/usr/local/install_tmp’: Permission denied\n",
      "Unpacking payload ...\n",
      "./Miniconda3-py38_22.11.1-1-Linux-x86_64.sh: line 406: /usr/local/conda.exe: No such file or directory\n",
      "./Miniconda3-py38_22.11.1-1-Linux-x86_64.sh: line 409: /usr/local/preconda.tar.bz2: No such file or directory\n"
     ]
    }
   ],
   "source": [
    "!wget https://repo.anaconda.com/miniconda/Miniconda3-py38_22.11.1-1-Linux-x86_64.sh \n",
    "!chmod +x Miniconda3-py38_22.11.1-1-Linux-x86_64.sh\n",
    "!bash ./Miniconda3-py38_22.11.1-1-Linux-x86_64.sh -b -f -p /usr/local \n",
    "import sys \n",
    "sys.path.append('/usr/local/lib/python3.8/site-packages/')"
   ]
  },
  {
   "cell_type": "code",
   "execution_count": 4,
   "metadata": {
    "colab": {
     "base_uri": "https://localhost:8080/"
    },
    "id": "5iuP4_vl3WFA",
    "outputId": "891390e9-8c57-4c70-b73e-01d0f3bf03cd"
   },
   "outputs": [
    {
     "name": "stdout",
     "output_type": "stream",
     "text": [
      "Retrieving notices: ...working... done\n",
      "Collecting package metadata (current_repodata.json): / ^C\n",
      "\\ "
     ]
    }
   ],
   "source": [
    "!conda update -n base -c defaults conda --yes"
   ]
  },
  {
   "cell_type": "code",
   "execution_count": 5,
   "metadata": {
    "colab": {
     "base_uri": "https://localhost:8080/"
    },
    "id": "uoBMBSS63Z58",
    "outputId": "fd2d89ee-ca64-435d-9727-77346b313894"
   },
   "outputs": [
    {
     "name": "stdout",
     "output_type": "stream",
     "text": [
      "conda 23.1.0\n",
      "Python 3.8.16\n"
     ]
    }
   ],
   "source": [
    "!conda --version\n",
    "!python --version"
   ]
  },
  {
   "cell_type": "code",
   "execution_count": null,
   "metadata": {
    "colab": {
     "base_uri": "https://localhost:8080/"
    },
    "id": "RMuJRdfH3dDq",
    "outputId": "549a70bc-1553-4821-c746-11d229ea6dc7"
   },
   "outputs": [
    {
     "name": "stdout",
     "output_type": "stream",
     "text": [
      "Collecting package metadata (current_repodata.json): done\n",
      "Solving environment: failed with initial frozen solve. Retrying with flexible solve.\n",
      "Collecting package metadata (repodata.json): / "
     ]
    }
   ],
   "source": [
    "!conda install -c conda-forge pyfmi=2.9.8 --yes # Install the key package"
   ]
  },
  {
   "cell_type": "markdown",
   "metadata": {
    "id": "UTETJm3l6heL"
   },
   "source": [
    "# BPL_TEST2_Batch setup\n"
   ]
  },
  {
   "cell_type": "markdown",
   "metadata": {
    "id": "mxILgQ103nZ6"
   },
   "source": [
    "Now specific installation and the run simulations. Start with connecting to Github. Then upload the two files:\n",
    "\n",
    "* FMU - BPL_TEST2_Batch_linux_om_me.fmu\n",
    "* Setup-file - BPL_TEST2_Batch_explore.me.py"
   ]
  },
  {
   "cell_type": "code",
   "execution_count": null,
   "metadata": {
    "colab": {
     "base_uri": "https://localhost:8080/"
    },
    "id": "RfWPh1B63yBF",
    "outputId": "11f89ca8-264d-4911-e9f6-8be30991e32f"
   },
   "outputs": [],
   "source": [
    "%%bash \n",
    "git clone https://github.com/janpeter19/BPL_TEST2_Batch"
   ]
  },
  {
   "cell_type": "code",
   "execution_count": null,
   "metadata": {
    "colab": {
     "base_uri": "https://localhost:8080/"
    },
    "id": "i6uOVB44300a",
    "outputId": "42a57a11-0e46-469e-a967-1131d19ff5f3"
   },
   "outputs": [],
   "source": [
    "%cd BPL_TEST2_Batch"
   ]
  },
  {
   "cell_type": "code",
   "execution_count": null,
   "metadata": {
    "colab": {
     "base_uri": "https://localhost:8080/"
    },
    "id": "b-y82jZY33cO",
    "outputId": "2fdc8dd7-d64f-4021-a64f-fdd99c5bd818"
   },
   "outputs": [],
   "source": [
    "run -i BPL_TEST2_Batch_explore.py"
   ]
  },
  {
   "cell_type": "code",
   "execution_count": null,
   "metadata": {
    "id": "HUFhuE-H4RCw"
   },
   "outputs": [],
   "source": [
    "%matplotlib inline\n",
    "plt.rcParams['figure.figsize'] = [25/2.54, 20/2.54]"
   ]
  },
  {
   "cell_type": "code",
   "execution_count": null,
   "metadata": {
    "id": "cMO4OlAgJIlb"
   },
   "outputs": [],
   "source": [
    "import warnings\n",
    "warnings.filterwarnings(\"ignore\")"
   ]
  },
  {
   "cell_type": "markdown",
   "metadata": {
    "id": "dx9oMnP0RJkM"
   },
   "source": [
    "## BPL_TEST2_Batch - demo\n",
    "\n"
   ]
  },
  {
   "cell_type": "code",
   "execution_count": null,
   "metadata": {
    "colab": {
     "base_uri": "https://localhost:8080/"
    },
    "id": "-Y3NHWIj4TZ6",
    "outputId": "b9b1936a-e0ab-430b-a7bb-e1babd283403"
   },
   "outputs": [],
   "source": [
    "describe('culture'); print(); #describe('liquidphase')                                  # Pump schedule parameter \n"
   ]
  },
  {
   "cell_type": "code",
   "execution_count": null,
   "metadata": {
    "colab": {
     "base_uri": "https://localhost:8080/",
     "height": 506
    },
    "id": "UeMOu19LJT6b",
    "outputId": "b953ddd4-771f-41a0-c807-58d8dec4b3ba"
   },
   "outputs": [],
   "source": [
    "# Simulation with default values of the process\n",
    "newplot(plotType='TimeSeries')\n",
    "simu()"
   ]
  },
  {
   "cell_type": "code",
   "execution_count": null,
   "metadata": {},
   "outputs": [],
   "source": [
    "# Simulation were initial value of biomass VX_0 is varied\n",
    "newplot(plotType='TimeSeries') \n",
    "for value in [1.0, 0.7, 1.3]: init(VX_0=value); simu(5)\n",
    "\n",
    "# Restore default value of VX_0\n",
    "init(VX_0=1.0)"
   ]
  },
  {
   "cell_type": "code",
   "execution_count": null,
   "metadata": {
    "colab": {
     "base_uri": "https://localhost:8080/",
     "height": 506
    },
    "id": "mtWJ3rfbJaVN",
    "outputId": "0075cdd5-37c1-4c8d-fe86-c29913ee98f0"
   },
   "outputs": [],
   "source": [
    "# Simulation were initial value of substrate VS_0 is varied\n",
    "newplot(plotType='TimeSeries')\n",
    "for value in [10, 7, 13]: init(VS_0=value); simu(5)\n",
    "\n",
    "# Restore default value of VS_0\n",
    "init(VS_0=10)"
   ]
  },
  {
   "cell_type": "code",
   "execution_count": null,
   "metadata": {},
   "outputs": [],
   "source": [
    "# Simulation where metabolism is changed after 3 hours\n",
    "newplot(plotType='TimeSeries') \n",
    "simu(5)\n",
    "\n",
    "simu(3)\n",
    "par(Y=0.4, qSmax=1.0/(0.4/0.5)); simu(2, 'cont')\n",
    "\n",
    "# Restore default value of Y and qSmax\n",
    "par(Y=0.5, qSmax=1.0)"
   ]
  },
  {
   "cell_type": "code",
   "execution_count": null,
   "metadata": {
    "colab": {
     "base_uri": "https://localhost:8080/"
    },
    "id": "IOLRVcsFJ5NX",
    "outputId": "e23655ac-445f-491a-e577-14343bc8b73a"
   },
   "outputs": [],
   "source": [
    "disp('culture')"
   ]
  },
  {
   "cell_type": "code",
   "execution_count": null,
   "metadata": {
    "colab": {
     "base_uri": "https://localhost:8080/"
    },
    "id": "yjcgKrvpJ96A",
    "outputId": "87b12b2f-004a-4da1-93f8-160ba7825fc9"
   },
   "outputs": [],
   "source": [
    "describe('mu')"
   ]
  },
  {
   "cell_type": "code",
   "execution_count": null,
   "metadata": {
    "colab": {
     "base_uri": "https://localhost:8080/"
    },
    "id": "sLF6NdXvKBY4",
    "outputId": "9eb7bc20-44ad-4688-c06b-63d65b92a80d"
   },
   "outputs": [],
   "source": [
    "describe('parts')"
   ]
  },
  {
   "cell_type": "code",
   "execution_count": null,
   "metadata": {
    "colab": {
     "base_uri": "https://localhost:8080/"
    },
    "id": "cZKKtkydKHH-",
    "outputId": "d9745a2f-1519-47fe-f698-28b25ac32b0a"
   },
   "outputs": [],
   "source": [
    "describe('MSL')"
   ]
  },
  {
   "cell_type": "code",
   "execution_count": null,
   "metadata": {
    "colab": {
     "base_uri": "https://localhost:8080/"
    },
    "id": "D7lCWmdiKNLm",
    "outputId": "cff332f5-b824-4e76-d219-afc515748aab"
   },
   "outputs": [],
   "source": [
    "system_info()"
   ]
  },
  {
   "cell_type": "code",
   "execution_count": null,
   "metadata": {},
   "outputs": [],
   "source": []
  }
 ],
 "metadata": {
  "colab": {
   "authorship_tag": "ABX9TyOAyyfNNr66gaDuZOmBdH1O",
   "include_colab_link": true,
   "provenance": []
  },
  "kernelspec": {
   "display_name": "Python 3 (ipykernel)",
   "language": "python",
   "name": "python3"
  },
  "language_info": {
   "codemirror_mode": {
    "name": "ipython",
    "version": 3
   },
   "file_extension": ".py",
   "mimetype": "text/x-python",
   "name": "python",
   "nbconvert_exporter": "python",
   "pygments_lexer": "ipython3",
   "version": "3.8.16"
  }
 },
 "nbformat": 4,
 "nbformat_minor": 1
}
